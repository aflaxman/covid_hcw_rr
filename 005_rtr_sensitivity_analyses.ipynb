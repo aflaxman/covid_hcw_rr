{
 "cells": [
  {
   "cell_type": "code",
   "execution_count": 1,
   "metadata": {},
   "outputs": [
    {
     "name": "stdout",
     "output_type": "stream",
     "text": [
      "Mon May 17 12:23:58 PDT 2021\r\n"
     ]
    }
   ],
   "source": [
    "import numpy as np, matplotlib.pyplot as plt, pandas as pd\n",
    "pd.set_option('display.max_rows', 8)\n",
    "!date\n",
    "\n",
    "import methods\n",
    "\n",
    "%load_ext autoreload\n",
    "%autoreload 2"
   ]
  },
  {
   "cell_type": "markdown",
   "metadata": {},
   "source": [
    "# Calculations for results section"
   ]
  },
  {
   "cell_type": "markdown",
   "metadata": {},
   "source": [
    "## Load data files"
   ]
  },
  {
   "cell_type": "code",
   "execution_count": 2,
   "metadata": {},
   "outputs": [
    {
     "name": "stderr",
     "output_type": "stream",
     "text": [
      "/homes/abie/.conda/envs/limetr_conda/lib/python3.7/site-packages/numpy/lib/arraysetops.py:580: FutureWarning: elementwise comparison failed; returning scalar instead, but in the future will perform elementwise comparison\n",
      "  mask |= (ar1 == a)\n"
     ]
    }
   ],
   "source": [
    "data = methods.load_data()"
   ]
  },
  {
   "cell_type": "markdown",
   "metadata": {},
   "source": [
    "> We strongly recommend including all positive tests as a sensitivity analysis not just those required by work. I agree that differential testing may introduce a bias, but it would be better to show all the data so that we can consider the potential magnitude of that bias. There may actually be an even greater differential between HCW and other workers.  In fact, probably most non-health care workers don't get tested through employer requirements, and only know that they have COVID after becoming sick.\n",
    "\n",
    "There are two natural approaches to this, and I don't want to include either in the main text, but I will check what the results are and include them in the response to reviewers.\n",
    "\n",
    "Approach 1 is to include everyone who was tested, regardless of whether the test was required:"
   ]
  },
  {
   "cell_type": "code",
   "execution_count": 3,
   "metadata": {},
   "outputs": [
    {
     "data": {
      "text/plain": [
       "156127"
      ]
     },
     "execution_count": 3,
     "metadata": {},
     "output_type": "execute_result"
    }
   ],
   "source": [
    "rows = (data['df'].date >= data['start_date']) & (data['df'].date <= data['end_date']\n",
    "                                                 ) & (data['df'].test_last_14_days == 1)\n",
    "sum(rows)"
   ]
  },
  {
   "cell_type": "code",
   "execution_count": 4,
   "metadata": {},
   "outputs": [],
   "source": [
    "df = methods.subset_data(data, rows, exposure='hcw', outcome='test_positive')"
   ]
  },
  {
   "cell_type": "code",
   "execution_count": 5,
   "metadata": {},
   "outputs": [
    {
     "name": "stdout",
     "output_type": "stream",
     "text": [
      "The survey data contained 156,127 respondents who were tested (regardless of workplace requirements) in the time period we focused on, 22,594 HCWs and 133,533 non-HCWs. There were 13,637 respondents who reported a positive test for COVID-19 in the last 14 days (1,674 among HCWs and 11,963 among non-HCWs).\n"
     ]
    }
   ],
   "source": [
    "print(f'The survey data contained {len(df):,.0f} respondents who were tested (regardless of workplace requirements) '\n",
    "      f'in the time period we focused on,'\n",
    "      f' {df.exposure.sum():,.0f} HCWs and {(1-df.exposure).sum():,.0f} non-HCWs.'\n",
    "      f' There were '\n",
    "      f'{df.outcome.sum():,.0f} respondents who reported a positive test for COVID-19 in the last 14 days '\n",
    "      f'({df[df.exposure==1].outcome.sum():,.0f} among HCWs and {df[df.exposure==0].outcome.sum():,.0f} among non-HCWs).')"
   ]
  },
  {
   "cell_type": "code",
   "execution_count": 6,
   "metadata": {},
   "outputs": [
    {
     "name": "stdout",
     "output_type": "stream",
     "text": [
      "CPU times: user 4min 55s, sys: 28.2 s, total: 5min 23s\n",
      "Wall time: 5min 23s\n"
     ]
    }
   ],
   "source": [
    "%%time\n",
    "\n",
    "# set random seed for reproducibility\n",
    "np.random.seed(12345)\n",
    "rr_draws = methods.sample_rr_draws(df)\n",
    "rr_mean, rr_lb, rr_ub = methods.my_summarize(rr_draws)"
   ]
  },
  {
   "cell_type": "code",
   "execution_count": 7,
   "metadata": {},
   "outputs": [
    {
     "name": "stdout",
     "output_type": "stream",
     "text": [
      "Among HCWs tested (regardless of whether the test was required), 1,674 of 22,594 (7.4%) reported a positive test in the last 14 days, while among non-HCWs tested (regardless of whether the test was required), 11,963 of 133,533 (8.96%) reported a positive test, for a relative COVID-19 prevalence ratio of 0.8 (95% UI 0.78 to 0.83).\n"
     ]
    }
   ],
   "source": [
    "print(f'Among HCWs tested (regardless of whether the test was required), {df[df.exposure==1].outcome.sum():,.0f} of {df.exposure.sum():,.0f}'\n",
    "      f' ({df[df.exposure==1].outcome.mean()*100:,.1f}%) reported a positive test in the last 14 days,'\n",
    "      f' while among non-HCWs tested (regardless of whether the test was required), '\n",
    "      f'{df[df.exposure==0].outcome.sum():,.0f} of {(df.exposure==0).sum():,.0f}'\n",
    "      f' ({df[df.exposure==0].outcome.mean()*100:,.2f}%) reported a positive test,'\n",
    "      f' for a relative COVID-19 prevalence ratio of {rr_mean:.1f} (95% UI {rr_lb:.2f} to {rr_ub:.2f}).'\n",
    "      )"
   ]
  },
  {
   "cell_type": "code",
   "execution_count": 8,
   "metadata": {},
   "outputs": [
    {
     "data": {
      "text/html": [
       "<div>\n",
       "<style scoped>\n",
       "    .dataframe tbody tr th:only-of-type {\n",
       "        vertical-align: middle;\n",
       "    }\n",
       "\n",
       "    .dataframe tbody tr th {\n",
       "        vertical-align: top;\n",
       "    }\n",
       "\n",
       "    .dataframe thead th {\n",
       "        text-align: right;\n",
       "    }\n",
       "</style>\n",
       "<table border=\"1\" class=\"dataframe\">\n",
       "  <thead>\n",
       "    <tr style=\"text-align: right;\">\n",
       "      <th></th>\n",
       "      <th>HCW - tested</th>\n",
       "      <th>HCW - positive</th>\n",
       "      <th>HCW - (%)</th>\n",
       "      <th>non-HCW - tested</th>\n",
       "      <th>non-HCW - positive</th>\n",
       "      <th>non-HCW - (%)</th>\n",
       "      <th>RR</th>\n",
       "      <th>95% UI</th>\n",
       "    </tr>\n",
       "  </thead>\n",
       "  <tbody>\n",
       "    <tr>\n",
       "      <th>0</th>\n",
       "      <td>22,594</td>\n",
       "      <td>1,674</td>\n",
       "      <td>7.4</td>\n",
       "      <td>133,533</td>\n",
       "      <td>11,963</td>\n",
       "      <td>9.0</td>\n",
       "      <td>0.79</td>\n",
       "      <td>0.78 to 0.83</td>\n",
       "    </tr>\n",
       "  </tbody>\n",
       "</table>\n",
       "</div>"
      ],
      "text/plain": [
       "  HCW - tested HCW - positive HCW - (%) non-HCW - tested non-HCW - positive  \\\n",
       "0       22,594          1,674       7.4          133,533             11,963   \n",
       "\n",
       "  non-HCW - (%)    RR        95% UI  \n",
       "0           9.0  0.79  0.78 to 0.83  "
      ]
     },
     "execution_count": 8,
     "metadata": {},
     "output_type": "execute_result"
    }
   ],
   "source": [
    "# table version of results\n",
    "t = pd.DataFrame(index=[0])\n",
    "t.loc[0, 'HCW - tested'] = f'{df.exposure.sum():,.0f}'\n",
    "t.loc[0, 'HCW - positive'] = f'{df[df.exposure==1].outcome.sum():,.0f}'\n",
    "t.loc[0, 'HCW - (%)'] = f'{df[df.exposure==1].outcome.mean()*100:,.1f}'\n",
    "\n",
    "t.loc[0, 'non-HCW - tested'] = f'{(1-df.exposure).sum():,.0f}'\n",
    "t.loc[0, 'non-HCW - positive'] = f'{df[df.exposure==0].outcome.sum():,.0f}'\n",
    "t.loc[0, 'non-HCW - (%)'] = f'{df[df.exposure==0].outcome.mean()*100:,.1f}'\n",
    "\n",
    "t.loc[0, 'RR'] = f'{rr_mean:.2f}'\n",
    "t.loc[0, '95% UI'] = f'{rr_lb:.2f} to {rr_ub:.2f}'\n",
    "\n",
    "t"
   ]
  },
  {
   "cell_type": "markdown",
   "metadata": {},
   "source": [
    "## Approach 2 is to include everyone (tested and not tested)\n",
    "\n",
    "This highlights the differential access to testing among HCWs."
   ]
  },
  {
   "cell_type": "code",
   "execution_count": 9,
   "metadata": {},
   "outputs": [
    {
     "data": {
      "text/plain": [
       "1822662"
      ]
     },
     "execution_count": 9,
     "metadata": {},
     "output_type": "execute_result"
    }
   ],
   "source": [
    "rows = (data['df'].date >= data['start_date']) & (data['df'].date <= data['end_date'])\n",
    "sum(rows)"
   ]
  },
  {
   "cell_type": "code",
   "execution_count": 10,
   "metadata": {},
   "outputs": [],
   "source": [
    "df = methods.subset_data(data, rows, exposure='hcw', outcome='test_positive')"
   ]
  },
  {
   "cell_type": "code",
   "execution_count": 11,
   "metadata": {},
   "outputs": [
    {
     "name": "stdout",
     "output_type": "stream",
     "text": [
      "The survey data contained 1,822,662 respondents (including both tested and untested)  in the time period we focused on, 123,448 HCWs and 1,699,214 non-HCWs. There were 13,637 respondents who reported a positive test for COVID-19 in the last 14 days (1,674 among HCWs and 11,963 among non-HCWs).\n"
     ]
    }
   ],
   "source": [
    "print(f'The survey data contained {len(df):,.0f} respondents (including both tested and untested)  '\n",
    "      f'in the time period we focused on,'\n",
    "      f' {df.exposure.sum():,.0f} HCWs and {(1-df.exposure).sum():,.0f} non-HCWs.'\n",
    "      f' There were '\n",
    "      f'{df.outcome.sum():,.0f} respondents who reported a positive test for COVID-19 in the last 14 days '\n",
    "      f'({df[df.exposure==1].outcome.sum():,.0f} among HCWs and {df[df.exposure==0].outcome.sum():,.0f} among non-HCWs).')"
   ]
  },
  {
   "cell_type": "code",
   "execution_count": 12,
   "metadata": {},
   "outputs": [
    {
     "name": "stdout",
     "output_type": "stream",
     "text": [
      "CPU times: user 2min 44s, sys: 928 ms, total: 2min 45s\n",
      "Wall time: 2min 45s\n"
     ]
    }
   ],
   "source": [
    "%%time\n",
    "\n",
    "random_rows = (np.random.uniform(size=len(df)) <= 100_000/len(df))\n",
    "rr_draws = methods.sample_rr_draws(df[random_rows])\n",
    "rr_mean, rr_lb, rr_ub = methods.my_summarize(rr_draws)"
   ]
  },
  {
   "cell_type": "code",
   "execution_count": 13,
   "metadata": {},
   "outputs": [
    {
     "name": "stdout",
     "output_type": "stream",
     "text": [
      "Among HCWs (tested and untested), 1,674 of 123,448 (1.4%) reported a positive test in the last 14 days, while among non-HCWs (tested and untested), 11,963 of 1,699,214 (0.70%) reported a positive test, for a relative COVID-19 prevalence ratio of 1.8 (95% UI 1.52 to 2.03).\n"
     ]
    }
   ],
   "source": [
    "print(f'Among HCWs (tested and untested), {df[df.exposure==1].outcome.sum():,.0f} of {df.exposure.sum():,.0f}'\n",
    "      f' ({df[df.exposure==1].outcome.mean()*100:,.1f}%) reported a positive test in the last 14 days,'\n",
    "      f' while among non-HCWs (tested and untested), '\n",
    "      f'{df[df.exposure==0].outcome.sum():,.0f} of {(df.exposure==0).sum():,.0f}'\n",
    "      f' ({df[df.exposure==0].outcome.mean()*100:,.2f}%) reported a positive test,'\n",
    "      f' for a relative COVID-19 prevalence ratio of {rr_mean:.1f} (95% UI {rr_lb:.2f} to {rr_ub:.2f}).'\n",
    "      )"
   ]
  },
  {
   "cell_type": "markdown",
   "metadata": {},
   "source": [
    "> Additionally, we strongly recommend having a different reference population than all non-healthcare workers. Other high risk workers are included in the current reference group, which may have the impact of making the risk among healthcare workers appear lower. Potentially consider including major census or SOC occupations for comparison. \n",
    "\n",
    "We prefer to focus our discussion on a comparison of HCWs with all non-HCWs, but the reviewer raises an interesting additional question.  Although we choose to leave a full investigation of these occupational comparisons for future work, we cannot resist examining them briefly in this response."
   ]
  },
  {
   "cell_type": "code",
   "execution_count": 14,
   "metadata": {},
   "outputs": [
    {
     "data": {
      "text/plain": [
       "NaN     51652\n",
       "4.0     40644\n",
       "5.0     24919\n",
       "16.0    20801\n",
       "2.0     15363\n",
       "11.0     9101\n",
       "7.0      7920\n",
       "1.0      6432\n",
       "Name: Q64, dtype: int64"
      ]
     },
     "execution_count": 14,
     "metadata": {},
     "output_type": "execute_result"
    }
   ],
   "source": [
    "data['df'][data['df'].test_required].Q64.value_counts(dropna=False).head(8)"
   ]
  },
  {
   "cell_type": "markdown",
   "metadata": {},
   "source": [
    "Besides HCWs, the occupation with the highest rate of required testing are (16) Other occupation, (2) education,training, and library, and (11) office and administration services (7) is food prep and serving."
   ]
  },
  {
   "cell_type": "code",
   "execution_count": 15,
   "metadata": {},
   "outputs": [
    {
     "data": {
      "text/plain": [
       "19954"
      ]
     },
     "execution_count": 15,
     "metadata": {},
     "output_type": "execute_result"
    }
   ],
   "source": [
    "rows = (data['df'].date >= data['start_date']) & (data['df'].date <= data['end_date']\n",
    "                                                 ) & (data['df'].test_required == 1)\n",
    "rows &= (data['df'].Q64.isin([4,5,2,7]))\n",
    "sum(rows)"
   ]
  },
  {
   "cell_type": "code",
   "execution_count": 16,
   "metadata": {},
   "outputs": [
    {
     "data": {
      "text/plain": [
       "19954"
      ]
     },
     "execution_count": 16,
     "metadata": {},
     "output_type": "execute_result"
    }
   ],
   "source": [
    "df = methods.subset_data(data, rows, exposure='hcw', outcome='test_positive')\n",
    "len(df)"
   ]
  },
  {
   "cell_type": "code",
   "execution_count": 17,
   "metadata": {},
   "outputs": [
    {
     "name": "stdout",
     "output_type": "stream",
     "text": [
      "CPU times: user 25.7 s, sys: 16 ms, total: 25.7 s\n",
      "Wall time: 25.7 s\n"
     ]
    }
   ],
   "source": [
    "%%time\n",
    "\n",
    "rr_draws = methods.sample_rr_draws(df)\n",
    "rr_mean, rr_lb, rr_ub = methods.my_summarize(rr_draws)"
   ]
  },
  {
   "cell_type": "code",
   "execution_count": 18,
   "metadata": {},
   "outputs": [
    {
     "name": "stdout",
     "output_type": "stream",
     "text": [
      "A comparison of HCWs to workers in education and food services found a relative COVID-19 incidence ratio of 0.97 (95% UI 0.82 to 1.12).\n"
     ]
    }
   ],
   "source": [
    "print(f'A comparison of HCWs to workers in education and food services found'\n",
    "      f' a relative COVID-19 incidence ratio of {rr_mean:.2f} '\n",
    "      f'(95% UI {rr_lb:.2f} to {rr_ub:.2f}).'\n",
    "      )"
   ]
  },
  {
   "cell_type": "code",
   "execution_count": 19,
   "metadata": {},
   "outputs": [
    {
     "data": {
      "text/plain": [
       "19195"
      ]
     },
     "execution_count": 19,
     "metadata": {},
     "output_type": "execute_result"
    }
   ],
   "source": [
    "rows = (data['df'].date >= data['start_date']) & (data['df'].date <= data['end_date']\n",
    "                                                 ) & (data['df'].test_required == 1)\n",
    "rows &= (data['df'].Q64.isin([4,5,16]))\n",
    "sum(rows)"
   ]
  },
  {
   "cell_type": "code",
   "execution_count": 20,
   "metadata": {},
   "outputs": [
    {
     "name": "stdout",
     "output_type": "stream",
     "text": [
      "CPU times: user 26.4 s, sys: 316 ms, total: 26.7 s\n",
      "Wall time: 26.7 s\n"
     ]
    }
   ],
   "source": [
    "%%time\n",
    "\n",
    "rr_draws = methods.sample_rr_draws(df)\n",
    "rr_mean, rr_lb, rr_ub = methods.my_summarize(rr_draws)"
   ]
  },
  {
   "cell_type": "code",
   "execution_count": 21,
   "metadata": {},
   "outputs": [
    {
     "name": "stdout",
     "output_type": "stream",
     "text": [
      "A comparison of HCWs to workers in occupation \"Other\" found a relative COVID-19 incidence ratio of 0.97 (95% UI 0.82 to 1.11).\n"
     ]
    }
   ],
   "source": [
    "print(f'A comparison of HCWs to workers in occupation \"Other\" found'\n",
    "      f' a relative COVID-19 incidence ratio of {rr_mean:.2f} '\n",
    "      f'(95% UI {rr_lb:.2f} to {rr_ub:.2f}).'\n",
    "      )"
   ]
  },
  {
   "cell_type": "markdown",
   "metadata": {},
   "source": [
    "I bet there are also a lot of students in the group with required tests who said they do not have an occupation."
   ]
  },
  {
   "cell_type": "code",
   "execution_count": 22,
   "metadata": {},
   "outputs": [
    {
     "data": {
      "text/plain": [
       "24312"
      ]
     },
     "execution_count": 22,
     "metadata": {},
     "output_type": "execute_result"
    }
   ],
   "source": [
    "rows = (data['df'].date >= data['start_date']) & (data['df'].date <= data['end_date']\n",
    "                                                 ) & (data['df'].test_required == 1)\n",
    "rows &= (data['df'].Q64.isin([4,5]) | data['df'].Q64.isnull())\n",
    "sum(rows)"
   ]
  },
  {
   "cell_type": "code",
   "execution_count": 23,
   "metadata": {},
   "outputs": [
    {
     "data": {
      "text/plain": [
       "9652"
      ]
     },
     "execution_count": 23,
     "metadata": {},
     "output_type": "execute_result"
    }
   ],
   "source": [
    "data['df'][rows].Q64.isnull().sum()"
   ]
  },
  {
   "cell_type": "code",
   "execution_count": 24,
   "metadata": {},
   "outputs": [],
   "source": [
    "df = methods.subset_data(data, rows, exposure='hcw', outcome='test_positive')"
   ]
  },
  {
   "cell_type": "code",
   "execution_count": 25,
   "metadata": {},
   "outputs": [
    {
     "data": {
      "text/html": [
       "<div>\n",
       "<style scoped>\n",
       "    .dataframe tbody tr th:only-of-type {\n",
       "        vertical-align: middle;\n",
       "    }\n",
       "\n",
       "    .dataframe tbody tr th {\n",
       "        vertical-align: top;\n",
       "    }\n",
       "\n",
       "    .dataframe thead th {\n",
       "        text-align: right;\n",
       "    }\n",
       "</style>\n",
       "<table border=\"1\" class=\"dataframe\">\n",
       "  <thead>\n",
       "    <tr style=\"text-align: right;\">\n",
       "      <th>age_group</th>\n",
       "      <th>1.0</th>\n",
       "      <th>2.0</th>\n",
       "      <th>3.0</th>\n",
       "      <th>4.0</th>\n",
       "      <th>5.0</th>\n",
       "      <th>6.0</th>\n",
       "      <th>7.0</th>\n",
       "    </tr>\n",
       "    <tr>\n",
       "      <th>Q64</th>\n",
       "      <th></th>\n",
       "      <th></th>\n",
       "      <th></th>\n",
       "      <th></th>\n",
       "      <th></th>\n",
       "      <th></th>\n",
       "      <th></th>\n",
       "    </tr>\n",
       "  </thead>\n",
       "  <tbody>\n",
       "    <tr>\n",
       "      <th>4.0</th>\n",
       "      <td>4.3</td>\n",
       "      <td>17.7</td>\n",
       "      <td>23.1</td>\n",
       "      <td>25.2</td>\n",
       "      <td>22.5</td>\n",
       "      <td>6.5</td>\n",
       "      <td>0.7</td>\n",
       "    </tr>\n",
       "    <tr>\n",
       "      <th>5.0</th>\n",
       "      <td>8.1</td>\n",
       "      <td>16.8</td>\n",
       "      <td>20.6</td>\n",
       "      <td>23.1</td>\n",
       "      <td>23.5</td>\n",
       "      <td>6.9</td>\n",
       "      <td>1.0</td>\n",
       "    </tr>\n",
       "    <tr>\n",
       "      <th>NaN</th>\n",
       "      <td>22.8</td>\n",
       "      <td>18.3</td>\n",
       "      <td>17.4</td>\n",
       "      <td>17.1</td>\n",
       "      <td>13.9</td>\n",
       "      <td>6.5</td>\n",
       "      <td>4.0</td>\n",
       "    </tr>\n",
       "  </tbody>\n",
       "</table>\n",
       "</div>"
      ],
      "text/plain": [
       "age_group   1.0   2.0   3.0   4.0   5.0  6.0  7.0\n",
       "Q64                                              \n",
       "4.0         4.3  17.7  23.1  25.2  22.5  6.5  0.7\n",
       "5.0         8.1  16.8  20.6  23.1  23.5  6.9  1.0\n",
       "NaN        22.8  18.3  17.4  17.1  13.9  6.5  4.0"
      ]
     },
     "execution_count": 25,
     "metadata": {},
     "output_type": "execute_result"
    }
   ],
   "source": [
    "np.round(\n",
    "    data['df'][rows].groupby('Q64', dropna=False\n",
    "                            ).age_group.value_counts(normalize=True).unstack()\n",
    " * 100, 1)"
   ]
  },
  {
   "cell_type": "code",
   "execution_count": 26,
   "metadata": {},
   "outputs": [
    {
     "data": {
      "text/plain": [
       "1.0    3149426\n",
       "2.0    2532747\n",
       "NaN    1319483\n",
       "Name: D9, dtype: int64"
      ]
     },
     "execution_count": 26,
     "metadata": {},
     "output_type": "execute_result"
    }
   ],
   "source": [
    "data['df'].D9.value_counts(dropna=False)"
   ]
  },
  {
   "cell_type": "code",
   "execution_count": 27,
   "metadata": {},
   "outputs": [
    {
     "data": {
      "text/plain": [
       "2.0    0.649789\n",
       "NaN    0.338520\n",
       "1.0    0.011691\n",
       "Name: D9, dtype: float64"
      ]
     },
     "execution_count": 27,
     "metadata": {},
     "output_type": "execute_result"
    }
   ],
   "source": [
    "data['df'][data['df'].Q64.isnull()].D9.value_counts(dropna=False, normalize=True)"
   ]
  },
  {
   "cell_type": "markdown",
   "metadata": {},
   "source": [
    "This also identifies an important divergence between the “non-HCW” population and the worker population---there are XXX respondents without an occupation code included in the non-HCW population.  Repeating our analysis with these respondents excluded finds :"
   ]
  },
  {
   "cell_type": "code",
   "execution_count": 28,
   "metadata": {},
   "outputs": [
    {
     "data": {
      "text/plain": [
       "33778"
      ]
     },
     "execution_count": 28,
     "metadata": {},
     "output_type": "execute_result"
    }
   ],
   "source": [
    "rows = (data['df'].date >= data['start_date']) & (data['df'].date <= data['end_date']\n",
    "                                                 ) & (data['df'].test_required == 1)\n",
    "rows &= (~data['df'].Q64.isnull())\n",
    "sum(rows)"
   ]
  },
  {
   "cell_type": "code",
   "execution_count": 29,
   "metadata": {},
   "outputs": [],
   "source": [
    "rr_draws = methods.sample_rr_draws(df)\n",
    "rr_mean, rr_lb, rr_ub = methods.my_summarize(rr_draws)"
   ]
  },
  {
   "cell_type": "code",
   "execution_count": 30,
   "metadata": {},
   "outputs": [
    {
     "name": "stdout",
     "output_type": "stream",
     "text": [
      "A comparison of HCWs to respondents who were tested and reported a non-HCW occupation found a relative COVID-19 incidence ratio of 0.60 (95% UI 0.55 to 0.67).\n"
     ]
    }
   ],
   "source": [
    "print(f'A comparison of HCWs to respondents who were tested and reported a non-HCW occupation found'\n",
    "      f' a relative COVID-19 incidence ratio of {rr_mean:.2f} '\n",
    "      f'(95% UI {rr_lb:.2f} to {rr_ub:.2f}).'\n",
    "      )"
   ]
  },
  {
   "cell_type": "code",
   "execution_count": 31,
   "metadata": {},
   "outputs": [
    {
     "data": {
      "text/plain": [
       "34167"
      ]
     },
     "execution_count": 31,
     "metadata": {},
     "output_type": "execute_result"
    }
   ],
   "source": [
    "# what about when restricted to only those who worked in last 14 days?\n",
    "\n",
    "rows = (data['df'].date >= data['start_date']) & (data['df'].date <= data['end_date']\n",
    "                                                 ) & (data['df'].test_required == 1)\n",
    "rows &= (data['df'].D9 == 1)\n",
    "sum(rows)"
   ]
  },
  {
   "cell_type": "code",
   "execution_count": 32,
   "metadata": {},
   "outputs": [],
   "source": [
    "df = methods.subset_data(data, rows, exposure='hcw', outcome='test_positive')"
   ]
  },
  {
   "cell_type": "code",
   "execution_count": 33,
   "metadata": {},
   "outputs": [],
   "source": [
    "rr_draws = methods.sample_rr_draws(df)\n",
    "rr_mean, rr_lb, rr_ub = methods.my_summarize(rr_draws)"
   ]
  },
  {
   "cell_type": "code",
   "execution_count": 34,
   "metadata": {},
   "outputs": [
    {
     "name": "stdout",
     "output_type": "stream",
     "text": [
      "A comparison of HCWs to respondents who worked in last 14 days found a relative COVID-19 incidence ratio of 0.84 (95% UI 0.76 to 0.91).\n"
     ]
    }
   ],
   "source": [
    "print(f'A comparison of HCWs to respondents who worked in last 14 days found'\n",
    "      f' a relative COVID-19 incidence ratio of {rr_mean:.2f} '\n",
    "      f'(95% UI {rr_lb:.2f} to {rr_ub:.2f}).'\n",
    "      )"
   ]
  },
  {
   "attachments": {
    "image.png": {
     "image/png": "[encoded data removed]"
    }
   },
   "cell_type": "markdown",
   "metadata": {},
   "source": [
    "> The demographics for healthcare workers should be compared to national data about healthcare workers demographics. This data can be obtained from the CPS or census. CPS is linked here: https://www.bls.gov/cps/tables.htm\n",
    "\n",
    "![image.png](attachment:image.png)"
   ]
  },
  {
   "cell_type": "code",
   "execution_count": 35,
   "metadata": {},
   "outputs": [],
   "source": [
    "df = methods.subset_data(data, rows, exposure='hcw', outcome='test_positive')"
   ]
  },
  {
   "cell_type": "code",
   "execution_count": 36,
   "metadata": {},
   "outputs": [
    {
     "data": {
      "text/plain": [
       "43430"
      ]
     },
     "execution_count": 36,
     "metadata": {},
     "output_type": "execute_result"
    }
   ],
   "source": [
    "# what about when restricted to only those who worked?\n",
    "\n",
    "rows = (data['df'].date >= data['start_date']) & (data['df'].date <= data['end_date']\n",
    "                                                 ) & (data['df'].test_required == 1)\n",
    "sum(rows)"
   ]
  },
  {
   "cell_type": "code",
   "execution_count": 37,
   "metadata": {},
   "outputs": [
    {
     "data": {
      "text/html": [
       "<div>\n",
       "<style scoped>\n",
       "    .dataframe tbody tr th:only-of-type {\n",
       "        vertical-align: middle;\n",
       "    }\n",
       "\n",
       "    .dataframe tbody tr th {\n",
       "        vertical-align: top;\n",
       "    }\n",
       "\n",
       "    .dataframe thead th {\n",
       "        text-align: right;\n",
       "    }\n",
       "</style>\n",
       "<table border=\"1\" class=\"dataframe\">\n",
       "  <thead>\n",
       "    <tr style=\"text-align: right;\">\n",
       "      <th></th>\n",
       "      <th>index</th>\n",
       "      <th>age_group</th>\n",
       "    </tr>\n",
       "  </thead>\n",
       "  <tbody>\n",
       "    <tr>\n",
       "      <th>0</th>\n",
       "      <td>1.0</td>\n",
       "      <td>4413</td>\n",
       "    </tr>\n",
       "    <tr>\n",
       "      <th>1</th>\n",
       "      <td>2.0</td>\n",
       "      <td>7538</td>\n",
       "    </tr>\n",
       "    <tr>\n",
       "      <th>2</th>\n",
       "      <td>3.0</td>\n",
       "      <td>8401</td>\n",
       "    </tr>\n",
       "    <tr>\n",
       "      <th>3</th>\n",
       "      <td>4.0</td>\n",
       "      <td>8766</td>\n",
       "    </tr>\n",
       "    <tr>\n",
       "      <th>4</th>\n",
       "      <td>5.0</td>\n",
       "      <td>7572</td>\n",
       "    </tr>\n",
       "    <tr>\n",
       "      <th>5</th>\n",
       "      <td>6.0</td>\n",
       "      <td>2283</td>\n",
       "    </tr>\n",
       "    <tr>\n",
       "      <th>6</th>\n",
       "      <td>7.0</td>\n",
       "      <td>624</td>\n",
       "    </tr>\n",
       "    <tr>\n",
       "      <th>7</th>\n",
       "      <td>NaN</td>\n",
       "      <td>3833</td>\n",
       "    </tr>\n",
       "  </tbody>\n",
       "</table>\n",
       "</div>"
      ],
      "text/plain": [
       "   index  age_group\n",
       "0    1.0       4413\n",
       "1    2.0       7538\n",
       "2    3.0       8401\n",
       "3    4.0       8766\n",
       "4    5.0       7572\n",
       "5    6.0       2283\n",
       "6    7.0        624\n",
       "7    NaN       3833"
      ]
     },
     "execution_count": 37,
     "metadata": {},
     "output_type": "execute_result"
    }
   ],
   "source": [
    "data['df'][rows].age_group.value_counts(dropna=False).sort_index().reset_index()"
   ]
  },
  {
   "cell_type": "code",
   "execution_count": 38,
   "metadata": {},
   "outputs": [],
   "source": [
    "rows = (data['df'].date >= data['start_date']) & (data['df'].date <= data['end_date']\n",
    "     ) & (data['df'].test_required == 1) & (data['df']['Q68'] == 1)  # Physician or surgeon"
   ]
  },
  {
   "attachments": {
    "image.png": {
     "image/png": "[encoded data removed]"
    }
   },
   "cell_type": "markdown",
   "metadata": {},
   "source": [
    "![image.png](attachment:image.png)"
   ]
  },
  {
   "cell_type": "code",
   "execution_count": 39,
   "metadata": {},
   "outputs": [
    {
     "data": {
      "text/html": [
       "<div>\n",
       "<style scoped>\n",
       "    .dataframe tbody tr th:only-of-type {\n",
       "        vertical-align: middle;\n",
       "    }\n",
       "\n",
       "    .dataframe tbody tr th {\n",
       "        vertical-align: top;\n",
       "    }\n",
       "\n",
       "    .dataframe thead th {\n",
       "        text-align: right;\n",
       "    }\n",
       "</style>\n",
       "<table border=\"1\" class=\"dataframe\">\n",
       "  <thead>\n",
       "    <tr style=\"text-align: right;\">\n",
       "      <th></th>\n",
       "      <th>index</th>\n",
       "      <th>age_group</th>\n",
       "      <th>pct</th>\n",
       "    </tr>\n",
       "  </thead>\n",
       "  <tbody>\n",
       "    <tr>\n",
       "      <th>0</th>\n",
       "      <td>1.0</td>\n",
       "      <td>6</td>\n",
       "      <td>2.1</td>\n",
       "    </tr>\n",
       "    <tr>\n",
       "      <th>1</th>\n",
       "      <td>2.0</td>\n",
       "      <td>44</td>\n",
       "      <td>15.1</td>\n",
       "    </tr>\n",
       "    <tr>\n",
       "      <th>2</th>\n",
       "      <td>3.0</td>\n",
       "      <td>65</td>\n",
       "      <td>22.3</td>\n",
       "    </tr>\n",
       "    <tr>\n",
       "      <th>3</th>\n",
       "      <td>4.0</td>\n",
       "      <td>71</td>\n",
       "      <td>24.4</td>\n",
       "    </tr>\n",
       "    <tr>\n",
       "      <th>4</th>\n",
       "      <td>5.0</td>\n",
       "      <td>61</td>\n",
       "      <td>21.0</td>\n",
       "    </tr>\n",
       "    <tr>\n",
       "      <th>5</th>\n",
       "      <td>6.0</td>\n",
       "      <td>22</td>\n",
       "      <td>7.6</td>\n",
       "    </tr>\n",
       "    <tr>\n",
       "      <th>6</th>\n",
       "      <td>7.0</td>\n",
       "      <td>22</td>\n",
       "      <td>7.6</td>\n",
       "    </tr>\n",
       "  </tbody>\n",
       "</table>\n",
       "</div>"
      ],
      "text/plain": [
       "   index  age_group   pct\n",
       "0    1.0          6   2.1\n",
       "1    2.0         44  15.1\n",
       "2    3.0         65  22.3\n",
       "3    4.0         71  24.4\n",
       "4    5.0         61  21.0\n",
       "5    6.0         22   7.6\n",
       "6    7.0         22   7.6"
      ]
     },
     "execution_count": 39,
     "metadata": {},
     "output_type": "execute_result"
    }
   ],
   "source": [
    "rows = (data['df'].date >= data['start_date']) & (data['df'].date <= data['end_date']\n",
    "     ) & (data['df'].test_required == 1) & (\n",
    "    data['df'].Q68 == 1)  # Physician or surgeon\n",
    "\n",
    "def my_age_pattern(rows):\n",
    "    t = data['df'][rows].age_group.value_counts(dropna=False)\n",
    "    t = t.sort_index().reset_index()\n",
    "    t['pct'] = t.age_group / t.age_group.sum() *100\n",
    "    return np.round(t, 1).sort_index()\n",
    "my_age_pattern(rows)"
   ]
  },
  {
   "cell_type": "code",
   "execution_count": 40,
   "metadata": {},
   "outputs": [
    {
     "data": {
      "text/plain": [
       "291"
      ]
     },
     "execution_count": 40,
     "metadata": {},
     "output_type": "execute_result"
    }
   ],
   "source": [
    "sum(rows)"
   ]
  },
  {
   "cell_type": "code",
   "execution_count": 41,
   "metadata": {},
   "outputs": [
    {
     "data": {
      "text/html": [
       "<div>\n",
       "<style scoped>\n",
       "    .dataframe tbody tr th:only-of-type {\n",
       "        vertical-align: middle;\n",
       "    }\n",
       "\n",
       "    .dataframe tbody tr th {\n",
       "        vertical-align: top;\n",
       "    }\n",
       "\n",
       "    .dataframe thead th {\n",
       "        text-align: right;\n",
       "    }\n",
       "</style>\n",
       "<table border=\"1\" class=\"dataframe\">\n",
       "  <thead>\n",
       "    <tr style=\"text-align: right;\">\n",
       "      <th></th>\n",
       "      <th>index</th>\n",
       "      <th>age_group</th>\n",
       "      <th>pct</th>\n",
       "    </tr>\n",
       "  </thead>\n",
       "  <tbody>\n",
       "    <tr>\n",
       "      <th>0</th>\n",
       "      <td>1.0</td>\n",
       "      <td>71</td>\n",
       "      <td>2.2</td>\n",
       "    </tr>\n",
       "    <tr>\n",
       "      <th>1</th>\n",
       "      <td>2.0</td>\n",
       "      <td>466</td>\n",
       "      <td>14.7</td>\n",
       "    </tr>\n",
       "    <tr>\n",
       "      <th>2</th>\n",
       "      <td>3.0</td>\n",
       "      <td>757</td>\n",
       "      <td>23.9</td>\n",
       "    </tr>\n",
       "    <tr>\n",
       "      <th>3</th>\n",
       "      <td>4.0</td>\n",
       "      <td>807</td>\n",
       "      <td>25.5</td>\n",
       "    </tr>\n",
       "    <tr>\n",
       "      <th>4</th>\n",
       "      <td>5.0</td>\n",
       "      <td>776</td>\n",
       "      <td>24.5</td>\n",
       "    </tr>\n",
       "    <tr>\n",
       "      <th>5</th>\n",
       "      <td>6.0</td>\n",
       "      <td>272</td>\n",
       "      <td>8.6</td>\n",
       "    </tr>\n",
       "    <tr>\n",
       "      <th>6</th>\n",
       "      <td>7.0</td>\n",
       "      <td>17</td>\n",
       "      <td>0.5</td>\n",
       "    </tr>\n",
       "    <tr>\n",
       "      <th>7</th>\n",
       "      <td>NaN</td>\n",
       "      <td>2</td>\n",
       "      <td>0.1</td>\n",
       "    </tr>\n",
       "  </tbody>\n",
       "</table>\n",
       "</div>"
      ],
      "text/plain": [
       "   index  age_group   pct\n",
       "0    1.0         71   2.2\n",
       "1    2.0        466  14.7\n",
       "2    3.0        757  23.9\n",
       "3    4.0        807  25.5\n",
       "4    5.0        776  24.5\n",
       "5    6.0        272   8.6\n",
       "6    7.0         17   0.5\n",
       "7    NaN          2   0.1"
      ]
     },
     "execution_count": 41,
     "metadata": {},
     "output_type": "execute_result"
    }
   ],
   "source": [
    "rows = (data['df'].date >= data['start_date']) & (data['df'].date <= data['end_date']\n",
    "     ) & (data['df'].test_required == 1) & (\n",
    "    data['df'].Q68 == 2)  # Registered nurse (including nurse practitioner)\n",
    "\n",
    "my_age_pattern(rows)"
   ]
  },
  {
   "cell_type": "code",
   "execution_count": 42,
   "metadata": {},
   "outputs": [
    {
     "data": {
      "text/plain": [
       "3168"
      ]
     },
     "execution_count": 42,
     "metadata": {},
     "output_type": "execute_result"
    }
   ],
   "source": [
    "sum(rows)"
   ]
  },
  {
   "cell_type": "code",
   "execution_count": null,
   "metadata": {},
   "outputs": [],
   "source": []
  }
 ],
 "metadata": {
  "kernelspec": {
   "display_name": "Python 3",
   "language": "python",
   "name": "python3"
  },
  "language_info": {
   "codemirror_mode": {
    "name": "ipython",
    "version": 3
   },
   "file_extension": ".py",
   "mimetype": "text/x-python",
   "name": "python",
   "nbconvert_exporter": "python",
   "pygments_lexer": "ipython3",
   "version": "3.7.10"
  }
 },
 "nbformat": 4,
 "nbformat_minor": 2
}

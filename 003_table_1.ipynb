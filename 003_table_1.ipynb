{
 "cells": [
  {
   "cell_type": "code",
   "execution_count": 1,
   "metadata": {},
   "outputs": [
    {
     "name": "stdout",
     "output_type": "stream",
     "text": [
      "Wed Oct 21 12:40:51 PDT 2020\r\n"
     ]
    }
   ],
   "source": [
    "import numpy as np, matplotlib.pyplot as plt, pandas as pd\n",
    "pd.set_option('display.max_rows', 8)\n",
    "!date\n",
    "\n",
    "import methods\n",
    "\n",
    "%load_ext autoreload\n",
    "%autoreload 2"
   ]
  },
  {
   "cell_type": "markdown",
   "metadata": {},
   "source": [
    "# Table 1: characteristics of survey respondents\n"
   ]
  },
  {
   "cell_type": "code",
   "execution_count": 2,
   "metadata": {},
   "outputs": [
    {
     "name": "stderr",
     "output_type": "stream",
     "text": [
      "/homes/abie/.conda/envs/vivarium_conic_sqlns/lib/python3.6/site-packages/numpy/lib/arraysetops.py:522: FutureWarning: elementwise comparison failed; returning scalar instead, but in the future will perform elementwise comparison\n",
      "  mask |= (ar1 == a)\n"
     ]
    }
   ],
   "source": [
    "data = methods.load_data()"
   ]
  },
  {
   "cell_type": "code",
   "execution_count": 3,
   "metadata": {},
   "outputs": [],
   "source": [
    "df = data['df']\n",
    "df['weight_one'] = 1\n",
    "all_rows = df.date >= data['data_start_date']\n",
    "rows = (df.date >= data['data_start_date']) & (df.test_required == 1)"
   ]
  },
  {
   "cell_type": "code",
   "execution_count": 4,
   "metadata": {},
   "outputs": [],
   "source": [
    "def row_vals(df, col):\n",
    "    g = df.groupby('hcw')[col]\n",
    "    s = pd.DataFrame({'cnt':g.sum(), 'pct':100*g.mean()}).T.unstack()\n",
    "    s.name = col\n",
    "    \n",
    "    return s"
   ]
  },
  {
   "cell_type": "code",
   "execution_count": 5,
   "metadata": {},
   "outputs": [
    {
     "data": {
      "text/plain": [
       "hcw       \n",
       "False  cnt    1672981\n",
       "       pct        100\n",
       "True   cnt     115814\n",
       "       pct        100\n",
       "Name: weight_one, dtype: int64"
      ]
     },
     "execution_count": 5,
     "metadata": {},
     "output_type": "execute_result"
    }
   ],
   "source": [
    "results = {}\n",
    "\n",
    "# Total HCWs, non-HCWs\n",
    "results['Total'] = row_vals(df[all_rows], 'weight_one')\n",
    "results['Total']"
   ]
  },
  {
   "cell_type": "code",
   "execution_count": 6,
   "metadata": {},
   "outputs": [
    {
     "data": {
      "text/plain": [
       "hcw       \n",
       "False  cnt    123830.000000\n",
       "       pct         7.401758\n",
       "True   cnt     21071.000000\n",
       "       pct        18.193828\n",
       "Name: test_last_14_days, dtype: float64"
      ]
     },
     "execution_count": 6,
     "metadata": {},
     "output_type": "execute_result"
    }
   ],
   "source": [
    "# Number and percent tested \n",
    "results['Tested in last 14 days'] = row_vals(df[all_rows], 'test_last_14_days')\n",
    "results['Tested in last 14 days']"
   ]
  },
  {
   "cell_type": "code",
   "execution_count": 7,
   "metadata": {},
   "outputs": [
    {
     "data": {
      "text/plain": [
       "hcw       \n",
       "False  cnt    26805.000000\n",
       "       pct        1.602230\n",
       "True   cnt    13747.000000\n",
       "       pct       11.869895\n",
       "Name: test_required, dtype: float64"
      ]
     },
     "execution_count": 7,
     "metadata": {},
     "output_type": "execute_result"
    }
   ],
   "source": [
    "# Required test in last 14 days\n",
    "results['Test required by work or school'] = row_vals(df[all_rows], 'test_required')\n",
    "results['Test required by work or school']"
   ]
  },
  {
   "cell_type": "code",
   "execution_count": 8,
   "metadata": {},
   "outputs": [
    {
     "data": {
      "text/plain": [
       "hcw\n",
       "False    26805.0\n",
       "True     13747.0\n",
       "Name: test_required, dtype: float64"
      ]
     },
     "execution_count": 8,
     "metadata": {},
     "output_type": "execute_result"
    }
   ],
   "source": [
    "# Now, among those with a required test in last 14 days\n",
    "df[rows].groupby('hcw').test_required.sum()"
   ]
  },
  {
   "cell_type": "code",
   "execution_count": 9,
   "metadata": {},
   "outputs": [
    {
     "data": {
      "text/plain": [
       "hcw       \n",
       "False  cnt    8662.000000\n",
       "       pct      32.314867\n",
       "True   cnt    1972.000000\n",
       "       pct      14.344948\n",
       "Name: male, dtype: float64"
      ]
     },
     "execution_count": 9,
     "metadata": {},
     "output_type": "execute_result"
    }
   ],
   "source": [
    "# Demographics: number, percent male\n",
    "results['Among those with required test'] = pd.Series()\n",
    "\n",
    "results['Male gender'] = row_vals(df[rows], 'male')\n",
    "results['Male gender']"
   ]
  },
  {
   "cell_type": "code",
   "execution_count": 10,
   "metadata": {},
   "outputs": [
    {
     "data": {
      "text/plain": [
       "hcw       \n",
       "False  cnt    3356.000000\n",
       "       pct      12.520052\n",
       "True   cnt     761.000000\n",
       "       pct       5.535753\n",
       "Name: 18_to_24, dtype: float64"
      ]
     },
     "execution_count": 10,
     "metadata": {},
     "output_type": "execute_result"
    }
   ],
   "source": [
    "results['Age in years'] = pd.Series()\n",
    "\n",
    "df['18_to_24'] = (df.age_group == 1)\n",
    "results['18 to 24'] = row_vals(df[rows], '18_to_24')\n",
    "results['18 to 24']"
   ]
  },
  {
   "cell_type": "code",
   "execution_count": 11,
   "metadata": {},
   "outputs": [],
   "source": [
    "df['25_to_34'] = (df.age_group == 2)\n",
    "results['25 to 34'] = row_vals(df[rows], '25_to_34')"
   ]
  },
  {
   "cell_type": "code",
   "execution_count": 12,
   "metadata": {},
   "outputs": [],
   "source": [
    "df['35_to_44'] = (df.age_group == 3)\n",
    "results['35 to 44'] = row_vals(df[rows], '35_to_44')"
   ]
  },
  {
   "cell_type": "code",
   "execution_count": 13,
   "metadata": {},
   "outputs": [],
   "source": [
    "df['45_to_54'] = (df.age_group == 4)\n",
    "results['45 to 54'] = row_vals(df[rows], '45_to_54')"
   ]
  },
  {
   "cell_type": "code",
   "execution_count": 14,
   "metadata": {},
   "outputs": [],
   "source": [
    "df['55_to_64'] = (df.age_group == 5)\n",
    "results['55 to 64'] = row_vals(df[rows], '55_to_64')"
   ]
  },
  {
   "cell_type": "code",
   "execution_count": 15,
   "metadata": {},
   "outputs": [],
   "source": [
    "df['65_to_74'] = (df.age_group == 6)\n",
    "results['65 to 74'] = row_vals(df[rows], '65_to_74')"
   ]
  },
  {
   "cell_type": "code",
   "execution_count": 16,
   "metadata": {},
   "outputs": [],
   "source": [
    "df['75_and_older'] = (df.age_group == 7)\n",
    "results['75 and older'] = row_vals(df[rows], '75_and_older')"
   ]
  },
  {
   "cell_type": "code",
   "execution_count": 17,
   "metadata": {},
   "outputs": [
    {
     "data": {
      "text/html": [
       "<div>\n",
       "<style scoped>\n",
       "    .dataframe tbody tr th:only-of-type {\n",
       "        vertical-align: middle;\n",
       "    }\n",
       "\n",
       "    .dataframe tbody tr th {\n",
       "        vertical-align: top;\n",
       "    }\n",
       "\n",
       "    .dataframe thead tr th {\n",
       "        text-align: left;\n",
       "    }\n",
       "</style>\n",
       "<table border=\"1\" class=\"dataframe\">\n",
       "  <thead>\n",
       "    <tr>\n",
       "      <th>hcw</th>\n",
       "      <th colspan=\"2\" halign=\"left\">False</th>\n",
       "      <th colspan=\"2\" halign=\"left\">True</th>\n",
       "    </tr>\n",
       "    <tr>\n",
       "      <th></th>\n",
       "      <th>cnt</th>\n",
       "      <th>pct</th>\n",
       "      <th>cnt</th>\n",
       "      <th>pct</th>\n",
       "    </tr>\n",
       "  </thead>\n",
       "  <tbody>\n",
       "    <tr>\n",
       "      <th>Total</th>\n",
       "      <td>1.67298e+06</td>\n",
       "      <td>100</td>\n",
       "      <td>115814</td>\n",
       "      <td>100</td>\n",
       "    </tr>\n",
       "    <tr>\n",
       "      <th>Tested in last 14 days</th>\n",
       "      <td>123830</td>\n",
       "      <td>7.40176</td>\n",
       "      <td>21071</td>\n",
       "      <td>18.1938</td>\n",
       "    </tr>\n",
       "    <tr>\n",
       "      <th>Test required by work or school</th>\n",
       "      <td>26805</td>\n",
       "      <td>1.60223</td>\n",
       "      <td>13747</td>\n",
       "      <td>11.8699</td>\n",
       "    </tr>\n",
       "    <tr>\n",
       "      <th>Among those with required test</th>\n",
       "      <td></td>\n",
       "      <td></td>\n",
       "      <td></td>\n",
       "      <td></td>\n",
       "    </tr>\n",
       "    <tr>\n",
       "      <th>Male gender</th>\n",
       "      <td>8662</td>\n",
       "      <td>32.3149</td>\n",
       "      <td>1972</td>\n",
       "      <td>14.3449</td>\n",
       "    </tr>\n",
       "    <tr>\n",
       "      <th>Age in years</th>\n",
       "      <td></td>\n",
       "      <td></td>\n",
       "      <td></td>\n",
       "      <td></td>\n",
       "    </tr>\n",
       "    <tr>\n",
       "      <th>18 to 24</th>\n",
       "      <td>3356</td>\n",
       "      <td>12.5201</td>\n",
       "      <td>761</td>\n",
       "      <td>5.53575</td>\n",
       "    </tr>\n",
       "    <tr>\n",
       "      <th>25 to 34</th>\n",
       "      <td>4648</td>\n",
       "      <td>17.34</td>\n",
       "      <td>2374</td>\n",
       "      <td>17.2692</td>\n",
       "    </tr>\n",
       "    <tr>\n",
       "      <th>35 to 44</th>\n",
       "      <td>4784</td>\n",
       "      <td>17.8474</td>\n",
       "      <td>3058</td>\n",
       "      <td>22.2449</td>\n",
       "    </tr>\n",
       "    <tr>\n",
       "      <th>45 to 54</th>\n",
       "      <td>4797</td>\n",
       "      <td>17.8959</td>\n",
       "      <td>3377</td>\n",
       "      <td>24.5654</td>\n",
       "    </tr>\n",
       "    <tr>\n",
       "      <th>55 to 64</th>\n",
       "      <td>3983</td>\n",
       "      <td>14.8592</td>\n",
       "      <td>3141</td>\n",
       "      <td>22.8486</td>\n",
       "    </tr>\n",
       "    <tr>\n",
       "      <th>65 to 74</th>\n",
       "      <td>1204</td>\n",
       "      <td>4.4917</td>\n",
       "      <td>920</td>\n",
       "      <td>6.69237</td>\n",
       "    </tr>\n",
       "    <tr>\n",
       "      <th>75 and older</th>\n",
       "      <td>476</td>\n",
       "      <td>1.77579</td>\n",
       "      <td>105</td>\n",
       "      <td>0.763803</td>\n",
       "    </tr>\n",
       "  </tbody>\n",
       "</table>\n",
       "</div>"
      ],
      "text/plain": [
       "hcw                                    False            True           \n",
       "                                         cnt      pct     cnt       pct\n",
       "Total                            1.67298e+06      100  115814       100\n",
       "Tested in last 14 days                123830  7.40176   21071   18.1938\n",
       "Test required by work or school        26805  1.60223   13747   11.8699\n",
       "Among those with required test                                         \n",
       "Male gender                             8662  32.3149    1972   14.3449\n",
       "Age in years                                                           \n",
       "18 to 24                                3356  12.5201     761   5.53575\n",
       "25 to 34                                4648    17.34    2374   17.2692\n",
       "35 to 44                                4784  17.8474    3058   22.2449\n",
       "45 to 54                                4797  17.8959    3377   24.5654\n",
       "55 to 64                                3983  14.8592    3141   22.8486\n",
       "65 to 74                                1204   4.4917     920   6.69237\n",
       "75 and older                             476  1.77579     105  0.763803"
      ]
     },
     "execution_count": 17,
     "metadata": {},
     "output_type": "execute_result"
    }
   ],
   "source": [
    "pd.set_option('display.max_rows', 16)\n",
    "pd.DataFrame(results).T.fillna('')"
   ]
  }
 ],
 "metadata": {
  "kernelspec": {
   "display_name": "vivarium_conic_sqlns",
   "language": "python",
   "name": "vivarium_conic_sqlns"
  },
  "language_info": {
   "codemirror_mode": {
    "name": "ipython",
    "version": 3
   },
   "file_extension": ".py",
   "mimetype": "text/x-python",
   "name": "python",
   "nbconvert_exporter": "python",
   "pygments_lexer": "ipython3",
   "version": "3.6.8"
  }
 },
 "nbformat": 4,
 "nbformat_minor": 2
}

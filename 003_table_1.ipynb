{
 "cells": [
  {
   "cell_type": "code",
   "execution_count": 1,
   "metadata": {},
   "outputs": [
    {
     "name": "stdout",
     "output_type": "stream",
     "text": [
      "Mon May 17 12:22:47 PDT 2021\r\n"
     ]
    }
   ],
   "source": [
    "import numpy as np, matplotlib.pyplot as plt, pandas as pd\n",
    "pd.set_option('display.max_rows', 8)\n",
    "!date\n",
    "\n",
    "import methods\n",
    "\n",
    "%load_ext autoreload\n",
    "%autoreload 2"
   ]
  },
  {
   "cell_type": "markdown",
   "metadata": {},
   "source": [
    "# Table 1: characteristics of survey respondents\n"
   ]
  },
  {
   "cell_type": "code",
   "execution_count": 2,
   "metadata": {},
   "outputs": [
    {
     "name": "stderr",
     "output_type": "stream",
     "text": [
      "/homes/abie/.conda/envs/limetr_conda/lib/python3.7/site-packages/numpy/lib/arraysetops.py:580: FutureWarning: elementwise comparison failed; returning scalar instead, but in the future will perform elementwise comparison\n",
      "  mask |= (ar1 == a)\n"
     ]
    }
   ],
   "source": [
    "data = methods.load_data()"
   ]
  },
  {
   "cell_type": "code",
   "execution_count": 3,
   "metadata": {},
   "outputs": [],
   "source": [
    "df = data['df']\n",
    "df['weight_one'] = 1\n",
    "all_rows = (df.date >= data['start_date']) & (df.date <= data['end_date'])\n",
    "rows = all_rows & (df.test_required == 1)"
   ]
  },
  {
   "cell_type": "code",
   "execution_count": 4,
   "metadata": {},
   "outputs": [],
   "source": [
    "def row_vals(df, col):\n",
    "    g = df.groupby('hcw')[col]\n",
    "    s = pd.DataFrame({'cnt':g.sum(), 'pct':100*g.mean()}).T.unstack()\n",
    "    s.name = col\n",
    "    \n",
    "    return s"
   ]
  },
  {
   "cell_type": "code",
   "execution_count": 5,
   "metadata": {},
   "outputs": [
    {
     "data": {
      "text/plain": [
       "hcw       \n",
       "False  cnt    1699214\n",
       "       pct        100\n",
       "True   cnt     123448\n",
       "       pct        100\n",
       "Name: weight_one, dtype: int64"
      ]
     },
     "execution_count": 5,
     "metadata": {},
     "output_type": "execute_result"
    }
   ],
   "source": [
    "results = {}\n",
    "\n",
    "# Total HCWs, non-HCWs\n",
    "results['Total'] = row_vals(df[all_rows], 'weight_one')\n",
    "results['Total']"
   ]
  },
  {
   "cell_type": "code",
   "execution_count": 6,
   "metadata": {},
   "outputs": [
    {
     "data": {
      "text/plain": [
       "hcw       \n",
       "False  cnt    133533.000000\n",
       "       pct         7.858516\n",
       "True   cnt     22594.000000\n",
       "       pct        18.302443\n",
       "Name: test_last_14_days, dtype: float64"
      ]
     },
     "execution_count": 6,
     "metadata": {},
     "output_type": "execute_result"
    }
   ],
   "source": [
    "# Number and percent tested \n",
    "results['Tested in last 14 days'] = row_vals(df[all_rows], 'test_last_14_days')\n",
    "results['Tested in last 14 days']"
   ]
  },
  {
   "cell_type": "code",
   "execution_count": 7,
   "metadata": {},
   "outputs": [
    {
     "data": {
      "text/plain": [
       "hcw       \n",
       "False  cnt    28770.000000\n",
       "       pct        1.693136\n",
       "True   cnt    14660.000000\n",
       "       pct       11.875446\n",
       "Name: test_required, dtype: float64"
      ]
     },
     "execution_count": 7,
     "metadata": {},
     "output_type": "execute_result"
    }
   ],
   "source": [
    "# Required test in last 14 days\n",
    "results['Test required by work or school'] = row_vals(df[all_rows], 'test_required')\n",
    "results['Test required by work or school']"
   ]
  },
  {
   "cell_type": "code",
   "execution_count": 8,
   "metadata": {},
   "outputs": [
    {
     "data": {
      "text/plain": [
       "hcw\n",
       "False    28770\n",
       "True     14660\n",
       "Name: test_required, dtype: int64"
      ]
     },
     "execution_count": 8,
     "metadata": {},
     "output_type": "execute_result"
    }
   ],
   "source": [
    "# Now, among those with a required test in last 14 days\n",
    "df[rows].groupby('hcw').test_required.sum()"
   ]
  },
  {
   "cell_type": "code",
   "execution_count": 9,
   "metadata": {},
   "outputs": [
    {
     "name": "stderr",
     "output_type": "stream",
     "text": [
      "/homes/abie/.conda/envs/limetr_conda/lib/python3.7/site-packages/ipykernel_launcher.py:2: DeprecationWarning: The default dtype for empty Series will be 'object' instead of 'float64' in a future version. Specify a dtype explicitly to silence this warning.\n",
      "  \n"
     ]
    },
    {
     "data": {
      "text/plain": [
       "hcw       \n",
       "False  cnt    9303.000000\n",
       "       pct      32.335766\n",
       "True   cnt    2106.000000\n",
       "       pct      14.365621\n",
       "Name: male, dtype: float64"
      ]
     },
     "execution_count": 9,
     "metadata": {},
     "output_type": "execute_result"
    }
   ],
   "source": [
    "# Demographics: number, percent male\n",
    "results['Among those with required test'] = pd.Series()\n",
    "\n",
    "results['Male gender'] = row_vals(df[rows], 'male')\n",
    "results['Male gender']"
   ]
  },
  {
   "cell_type": "code",
   "execution_count": 10,
   "metadata": {},
   "outputs": [
    {
     "name": "stderr",
     "output_type": "stream",
     "text": [
      "/homes/abie/.conda/envs/limetr_conda/lib/python3.7/site-packages/ipykernel_launcher.py:1: DeprecationWarning: The default dtype for empty Series will be 'object' instead of 'float64' in a future version. Specify a dtype explicitly to silence this warning.\n",
      "  \"\"\"Entry point for launching an IPython kernel.\n"
     ]
    },
    {
     "data": {
      "text/plain": [
       "hcw       \n",
       "False  cnt    3595.000000\n",
       "       pct      12.495655\n",
       "True   cnt     818.000000\n",
       "       pct       5.579809\n",
       "Name: 18_to_24, dtype: float64"
      ]
     },
     "execution_count": 10,
     "metadata": {},
     "output_type": "execute_result"
    }
   ],
   "source": [
    "results['Age in years'] = pd.Series()\n",
    "\n",
    "df['18_to_24'] = (df.age_group == 1)\n",
    "results['18 to 24'] = row_vals(df[rows], '18_to_24')\n",
    "results['18 to 24']"
   ]
  },
  {
   "cell_type": "code",
   "execution_count": 11,
   "metadata": {},
   "outputs": [],
   "source": [
    "df['25_to_34'] = (df.age_group == 2)\n",
    "results['25 to 34'] = row_vals(df[rows], '25_to_34')"
   ]
  },
  {
   "cell_type": "code",
   "execution_count": 12,
   "metadata": {},
   "outputs": [],
   "source": [
    "df['35_to_44'] = (df.age_group == 3)\n",
    "results['35 to 44'] = row_vals(df[rows], '35_to_44')"
   ]
  },
  {
   "cell_type": "code",
   "execution_count": 13,
   "metadata": {},
   "outputs": [],
   "source": [
    "df['45_to_54'] = (df.age_group == 4)\n",
    "results['45 to 54'] = row_vals(df[rows], '45_to_54')"
   ]
  },
  {
   "cell_type": "code",
   "execution_count": 14,
   "metadata": {},
   "outputs": [],
   "source": [
    "df['55_to_64'] = (df.age_group == 5)\n",
    "results['55 to 64'] = row_vals(df[rows], '55_to_64')"
   ]
  },
  {
   "cell_type": "code",
   "execution_count": 15,
   "metadata": {},
   "outputs": [],
   "source": [
    "df['65_to_74'] = (df.age_group == 6)\n",
    "results['65 to 74'] = row_vals(df[rows], '65_to_74')"
   ]
  },
  {
   "cell_type": "code",
   "execution_count": 16,
   "metadata": {},
   "outputs": [],
   "source": [
    "df['75_and_older'] = (df.age_group == 7)\n",
    "results['75 and older'] = row_vals(df[rows], '75_and_older')"
   ]
  },
  {
   "cell_type": "code",
   "execution_count": 17,
   "metadata": {},
   "outputs": [
    {
     "data": {
      "text/html": [
       "<div>\n",
       "<style scoped>\n",
       "    .dataframe tbody tr th:only-of-type {\n",
       "        vertical-align: middle;\n",
       "    }\n",
       "\n",
       "    .dataframe tbody tr th {\n",
       "        vertical-align: top;\n",
       "    }\n",
       "\n",
       "    .dataframe thead tr th {\n",
       "        text-align: left;\n",
       "    }\n",
       "</style>\n",
       "<table border=\"1\" class=\"dataframe\">\n",
       "  <thead>\n",
       "    <tr>\n",
       "      <th></th>\n",
       "      <th colspan=\"2\" halign=\"left\">False</th>\n",
       "      <th colspan=\"2\" halign=\"left\">True</th>\n",
       "    </tr>\n",
       "    <tr>\n",
       "      <th></th>\n",
       "      <th>cnt</th>\n",
       "      <th>pct</th>\n",
       "      <th>cnt</th>\n",
       "      <th>pct</th>\n",
       "    </tr>\n",
       "  </thead>\n",
       "  <tbody>\n",
       "    <tr>\n",
       "      <th>Total</th>\n",
       "      <td>1699214.0</td>\n",
       "      <td>100.0</td>\n",
       "      <td>123448.0</td>\n",
       "      <td>100.0</td>\n",
       "    </tr>\n",
       "    <tr>\n",
       "      <th>Tested in last 14 days</th>\n",
       "      <td>133533.0</td>\n",
       "      <td>7.858516</td>\n",
       "      <td>22594.0</td>\n",
       "      <td>18.302443</td>\n",
       "    </tr>\n",
       "    <tr>\n",
       "      <th>Test required by work or school</th>\n",
       "      <td>28770.0</td>\n",
       "      <td>1.693136</td>\n",
       "      <td>14660.0</td>\n",
       "      <td>11.875446</td>\n",
       "    </tr>\n",
       "    <tr>\n",
       "      <th>Among those with required test</th>\n",
       "      <td></td>\n",
       "      <td></td>\n",
       "      <td></td>\n",
       "      <td></td>\n",
       "    </tr>\n",
       "    <tr>\n",
       "      <th>Male gender</th>\n",
       "      <td>9303.0</td>\n",
       "      <td>32.335766</td>\n",
       "      <td>2106.0</td>\n",
       "      <td>14.365621</td>\n",
       "    </tr>\n",
       "    <tr>\n",
       "      <th>Age in years</th>\n",
       "      <td></td>\n",
       "      <td></td>\n",
       "      <td></td>\n",
       "      <td></td>\n",
       "    </tr>\n",
       "    <tr>\n",
       "      <th>18 to 24</th>\n",
       "      <td>3595.0</td>\n",
       "      <td>12.495655</td>\n",
       "      <td>818.0</td>\n",
       "      <td>5.579809</td>\n",
       "    </tr>\n",
       "    <tr>\n",
       "      <th>25 to 34</th>\n",
       "      <td>4994.0</td>\n",
       "      <td>17.358359</td>\n",
       "      <td>2544.0</td>\n",
       "      <td>17.353342</td>\n",
       "    </tr>\n",
       "    <tr>\n",
       "      <th>35 to 44</th>\n",
       "      <td>5146.0</td>\n",
       "      <td>17.886688</td>\n",
       "      <td>3255.0</td>\n",
       "      <td>22.203274</td>\n",
       "    </tr>\n",
       "    <tr>\n",
       "      <th>45 to 54</th>\n",
       "      <td>5179.0</td>\n",
       "      <td>18.00139</td>\n",
       "      <td>3587.0</td>\n",
       "      <td>24.46794</td>\n",
       "    </tr>\n",
       "    <tr>\n",
       "      <th>55 to 64</th>\n",
       "      <td>4227.0</td>\n",
       "      <td>14.692388</td>\n",
       "      <td>3345.0</td>\n",
       "      <td>22.81719</td>\n",
       "    </tr>\n",
       "    <tr>\n",
       "      <th>65 to 74</th>\n",
       "      <td>1307.0</td>\n",
       "      <td>4.542927</td>\n",
       "      <td>976.0</td>\n",
       "      <td>6.657572</td>\n",
       "    </tr>\n",
       "    <tr>\n",
       "      <th>75 and older</th>\n",
       "      <td>503.0</td>\n",
       "      <td>1.748349</td>\n",
       "      <td>121.0</td>\n",
       "      <td>0.825375</td>\n",
       "    </tr>\n",
       "  </tbody>\n",
       "</table>\n",
       "</div>"
      ],
      "text/plain": [
       "                                     False                True            \n",
       "                                       cnt        pct       cnt        pct\n",
       "Total                            1699214.0      100.0  123448.0      100.0\n",
       "Tested in last 14 days            133533.0   7.858516   22594.0  18.302443\n",
       "Test required by work or school    28770.0   1.693136   14660.0  11.875446\n",
       "Among those with required test                                            \n",
       "Male gender                         9303.0  32.335766    2106.0  14.365621\n",
       "Age in years                                                              \n",
       "18 to 24                            3595.0  12.495655     818.0   5.579809\n",
       "25 to 34                            4994.0  17.358359    2544.0  17.353342\n",
       "35 to 44                            5146.0  17.886688    3255.0  22.203274\n",
       "45 to 54                            5179.0   18.00139    3587.0   24.46794\n",
       "55 to 64                            4227.0  14.692388    3345.0   22.81719\n",
       "65 to 74                            1307.0   4.542927     976.0   6.657572\n",
       "75 and older                         503.0   1.748349     121.0   0.825375"
      ]
     },
     "execution_count": 17,
     "metadata": {},
     "output_type": "execute_result"
    }
   ],
   "source": [
    "pd.set_option('display.max_rows', 16)\n",
    "pd.DataFrame(results).T.fillna('')"
   ]
  },
  {
   "cell_type": "code",
   "execution_count": 18,
   "metadata": {},
   "outputs": [
    {
     "data": {
      "text/plain": [
       "('September 8, 2020', 'October 20, 2020')"
      ]
     },
     "execution_count": 18,
     "metadata": {},
     "output_type": "execute_result"
    }
   ],
   "source": [
    "data['start_date'].strftime(methods.date_fmt), data['end_date'].strftime(methods.date_fmt)"
   ]
  }
 ],
 "metadata": {
  "kernelspec": {
   "display_name": "Python 3",
   "language": "python",
   "name": "python3"
  },
  "language_info": {
   "codemirror_mode": {
    "name": "ipython",
    "version": 3
   },
   "file_extension": ".py",
   "mimetype": "text/x-python",
   "name": "python",
   "nbconvert_exporter": "python",
   "pygments_lexer": "ipython3",
   "version": "3.7.10"
  }
 },
 "nbformat": 4,
 "nbformat_minor": 2
}

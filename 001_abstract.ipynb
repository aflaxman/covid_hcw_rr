{
 "cells": [
  {
   "cell_type": "code",
   "execution_count": 1,
   "metadata": {},
   "outputs": [
    {
     "name": "stdout",
     "output_type": "stream",
     "text": [
      "Mon May 17 12:32:40 PDT 2021\r\n"
     ]
    }
   ],
   "source": [
    "import numpy as np, matplotlib.pyplot as plt, pandas as pd\n",
    "pd.set_option('display.max_rows', 8)\n",
    "!date\n",
    "\n",
    "import methods\n",
    "\n",
    "%load_ext autoreload\n",
    "%autoreload 2"
   ]
  },
  {
   "cell_type": "markdown",
   "metadata": {},
   "source": [
    "# Calculations for abstract"
   ]
  },
  {
   "cell_type": "markdown",
   "metadata": {},
   "source": [
    "## Load data"
   ]
  },
  {
   "cell_type": "code",
   "execution_count": 2,
   "metadata": {},
   "outputs": [
    {
     "name": "stderr",
     "output_type": "stream",
     "text": [
      "/homes/abie/.conda/envs/limetr_conda/lib/python3.7/site-packages/numpy/lib/arraysetops.py:580: FutureWarning: elementwise comparison failed; returning scalar instead, but in the future will perform elementwise comparison\n",
      "  mask |= (ar1 == a)\n"
     ]
    }
   ],
   "source": [
    "data = methods.load_data()"
   ]
  },
  {
   "cell_type": "code",
   "execution_count": 3,
   "metadata": {},
   "outputs": [
    {
     "data": {
      "text/plain": [
       "1822662"
      ]
     },
     "execution_count": 3,
     "metadata": {},
     "output_type": "execute_result"
    }
   ],
   "source": [
    "all_rows = (data['df'].date >= data['start_date']) & (data['df'].date <= data['end_date'])\n",
    "sum(all_rows)"
   ]
  },
  {
   "cell_type": "code",
   "execution_count": 4,
   "metadata": {},
   "outputs": [
    {
     "data": {
      "text/plain": [
       "43430"
      ]
     },
     "execution_count": 4,
     "metadata": {},
     "output_type": "execute_result"
    }
   ],
   "source": [
    "rows = all_rows & (data['df'].test_required == 1)\n",
    "df = methods.subset_data(data, rows, exposure='hcw', outcome='test_positive')\n",
    "len(df)"
   ]
  },
  {
   "cell_type": "code",
   "execution_count": 5,
   "metadata": {},
   "outputs": [
    {
     "data": {
      "text/plain": [
       "Timestamp('2021-02-10 00:00:00')"
      ]
     },
     "execution_count": 5,
     "metadata": {},
     "output_type": "execute_result"
    }
   ],
   "source": [
    "data['df'].date.max()"
   ]
  },
  {
   "cell_type": "markdown",
   "metadata": {},
   "source": [
    "## Calculate relative risk with uncertainty"
   ]
  },
  {
   "cell_type": "code",
   "execution_count": 6,
   "metadata": {},
   "outputs": [
    {
     "name": "stdout",
     "output_type": "stream",
     "text": [
      "CPU times: user 58 s, sys: 718 ms, total: 58.7 s\n",
      "Wall time: 58.7 s\n"
     ]
    },
    {
     "data": {
      "text/plain": [
       "point_est    0.731588\n",
       "draw_0       0.746737\n",
       "draw_1       0.759099\n",
       "draw_2       0.759189\n",
       "               ...   \n",
       "draw_996     0.727963\n",
       "draw_997     0.740747\n",
       "draw_998     0.719303\n",
       "draw_999     0.751744\n",
       "Length: 1001, dtype: float64"
      ]
     },
     "execution_count": 6,
     "metadata": {},
     "output_type": "execute_result"
    }
   ],
   "source": [
    "%%time\n",
    "\n",
    "# set random seed for reproducibility\n",
    "np.random.seed(12345)\n",
    "rr_draws = methods.sample_rr_draws(df)\n",
    "rr_draws"
   ]
  },
  {
   "cell_type": "code",
   "execution_count": 7,
   "metadata": {},
   "outputs": [],
   "source": [
    "rr_mean, rr_lb, rr_ub = methods.my_summarize(rr_draws)"
   ]
  },
  {
   "cell_type": "markdown",
   "metadata": {},
   "source": [
    "# Text for Key Points > Findings:"
   ]
  },
  {
   "cell_type": "code",
   "execution_count": 8,
   "metadata": {},
   "outputs": [
    {
     "name": "stdout",
     "output_type": "stream",
     "text": [
      "Findings: We estimate that, on October 20, 2020, in the United States, there was a relative COVID incidence rate ratio of 0.73 (95% UI 0.68 to 0.80) between healthcare workers and non-healthcare workers.\n",
      "\n"
     ]
    }
   ],
   "source": [
    "print(f'Findings: We estimate that, on {data[\"end_date\"].strftime(methods.date_fmt)}, in the United States, there was a relative COVID incidence rate ratio '\n",
    "      f'of {rr_mean:.2f} (95% UI {rr_lb:.2f} to {rr_ub:.2f}) '\n",
    "      f'between healthcare workers and non-healthcare workers.\\n')"
   ]
  },
  {
   "cell_type": "markdown",
   "metadata": {},
   "source": [
    "# Text for Abstract > Design:"
   ]
  },
  {
   "cell_type": "code",
   "execution_count": 9,
   "metadata": {},
   "outputs": [
    {
     "name": "stdout",
     "output_type": "stream",
     "text": [
      "Analysis of cross-sectional data from a daily, web-based survey of 1,822,662 Facebook users from September 8, 2020 to October 20, 2020.\n"
     ]
    }
   ],
   "source": [
    "print(f'Analysis of cross-sectional data from a daily, web-based survey '\n",
    "      f'of {sum(all_rows):,.0f} Facebook users from '\n",
    "      f'{data[\"start_date\"].strftime(methods.date_fmt)} to {data[\"end_date\"].strftime(methods.date_fmt)}.')"
   ]
  },
  {
   "cell_type": "markdown",
   "metadata": {},
   "source": [
    "# Text for Abstract > Results:"
   ]
  },
  {
   "cell_type": "code",
   "execution_count": 10,
   "metadata": {},
   "outputs": [
    {
     "name": "stdout",
     "output_type": "stream",
     "text": [
      "On October 20, 2020, in the United States, there was a relative COVID incidence ratio of 0.73 (95% UI 0.68 to 0.80) between healthcare workers and workers in non-healthcare occupations.\n"
     ]
    }
   ],
   "source": [
    "print(f'On {data[\"end_date\"].strftime(methods.date_fmt)}, in the United States, there was a '\n",
    "      f'relative COVID incidence ratio of {rr_mean:.2f} (95% UI {rr_lb:.2f} to {rr_ub:.2f})'\n",
    "      ' between healthcare workers and workers in non-healthcare occupations.')"
   ]
  },
  {
   "cell_type": "code",
   "execution_count": 11,
   "metadata": {},
   "outputs": [
    {
     "name": "stdout",
     "output_type": "stream",
     "text": [
      "Among HCWs, 588 reported a positive result to a routine COVID test (4.0%), while among non-HCWs, 1,557 reported a positive test result (5.4%), for a relative COVID prevalence ratio of 0.7 (95% UI 0.7 to 0.8).\n"
     ]
    }
   ],
   "source": [
    "print(f'Among HCWs, {df[df.exposure==1].outcome.sum():,.0f} reported a positive result to a routine COVID test'\n",
    "      f' ({df[df.exposure==1].outcome.mean()*100:,.1f}%),'\n",
    "      f' while among non-HCWs, {df[df.exposure==0].outcome.sum():,.0f} reported a positive test result'\n",
    "      f' ({df[df.exposure==0].outcome.mean()*100:,.1f}%),'\n",
    "      f' for a relative COVID prevalence ratio of {rr_mean:.1f} (95% UI {rr_lb:.1f} to {rr_ub:.1f}).'\n",
    "      )"
   ]
  },
  {
   "cell_type": "code",
   "execution_count": 12,
   "metadata": {},
   "outputs": [
    {
     "name": "stdout",
     "output_type": "stream",
     "text": [
      "Findings: We estimate that, on October 20, 2020, in the United States, there was a relative COVID prevalence ratio of 0.73 (95% UI 0.68 to 0.80) between healthcare workers and non-healthcare workers.\n",
      "\n"
     ]
    }
   ],
   "source": [
    "print(f'Findings: We estimate that, on {data[\"end_date\"].strftime(methods.date_fmt)}, in the United States, there was a relative COVID prevalence ratio '\n",
    "      f'of {rr_mean:.2f} (95% UI {rr_lb:.2f} to {rr_ub:.2f}) '\n",
    "      f'between healthcare workers and non-healthcare workers.\\n')"
   ]
  },
  {
   "cell_type": "code",
   "execution_count": 13,
   "metadata": {},
   "outputs": [],
   "source": [
    "# # Design\n",
    "# print(f'Analysis of cross-sectional data from a daily, web-based survey '\n",
    "#       f'of {sum(rows):,.0f} Facebook users from '\n",
    "#       f'{data_start_date.strftime(date_fmt)} to {most_recent_data_date.strftime(date_fmt)}.')"
   ]
  },
  {
   "cell_type": "code",
   "execution_count": 14,
   "metadata": {},
   "outputs": [
    {
     "name": "stdout",
     "output_type": "stream",
     "text": [
      "On October 20, 2020, in the United States, there was a relative COVID prevalence ratio of 0.73 (95% UI 0.68 to 0.80) between healthcare workers and non-healthcare workers.\n",
      "\n"
     ]
    }
   ],
   "source": [
    "# Results\n",
    "\n",
    "print(f'On {data[\"end_date\"].strftime(methods.date_fmt)}, in the United States, there was a relative COVID prevalence ratio '\n",
    "      f'of {rr_mean:.2f} (95% UI {rr_lb:.2f} to {rr_ub:.2f}) '\n",
    "      f'between healthcare workers and non-healthcare workers.\\n')"
   ]
  },
  {
   "cell_type": "code",
   "execution_count": null,
   "metadata": {},
   "outputs": [],
   "source": []
  }
 ],
 "metadata": {
  "kernelspec": {
   "display_name": "Python 3",
   "language": "python",
   "name": "python3"
  },
  "language_info": {
   "codemirror_mode": {
    "name": "ipython",
    "version": 3
   },
   "file_extension": ".py",
   "mimetype": "text/x-python",
   "name": "python",
   "nbconvert_exporter": "python",
   "pygments_lexer": "ipython3",
   "version": "3.7.10"
  }
 },
 "nbformat": 4,
 "nbformat_minor": 2
}

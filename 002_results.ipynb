{
 "cells": [
  {
   "cell_type": "code",
   "execution_count": 1,
   "metadata": {},
   "outputs": [
    {
     "name": "stdout",
     "output_type": "stream",
     "text": [
      "Mon May 17 12:24:03 PDT 2021\r\n"
     ]
    }
   ],
   "source": [
    "import numpy as np, matplotlib.pyplot as plt, pandas as pd\n",
    "pd.set_option('display.max_rows', 8)\n",
    "!date\n",
    "\n",
    "import methods\n",
    "\n",
    "%load_ext autoreload\n",
    "%autoreload 2"
   ]
  },
  {
   "cell_type": "markdown",
   "metadata": {},
   "source": [
    "# Calculations for results section"
   ]
  },
  {
   "cell_type": "markdown",
   "metadata": {},
   "source": [
    "## Load data files"
   ]
  },
  {
   "cell_type": "code",
   "execution_count": 2,
   "metadata": {},
   "outputs": [
    {
     "name": "stderr",
     "output_type": "stream",
     "text": [
      "/homes/abie/.conda/envs/limetr_conda/lib/python3.7/site-packages/numpy/lib/arraysetops.py:580: FutureWarning: elementwise comparison failed; returning scalar instead, but in the future will perform elementwise comparison\n",
      "  mask |= (ar1 == a)\n"
     ]
    }
   ],
   "source": [
    "data = methods.load_data()"
   ]
  },
  {
   "cell_type": "code",
   "execution_count": 3,
   "metadata": {},
   "outputs": [
    {
     "data": {
      "text/plain": [
       "('September 8, 2020', 'October 20, 2020')"
      ]
     },
     "execution_count": 3,
     "metadata": {},
     "output_type": "execute_result"
    }
   ],
   "source": [
    "data['start_date'].strftime(methods.date_fmt), data['end_date'].strftime(methods.date_fmt)"
   ]
  },
  {
   "cell_type": "code",
   "execution_count": 4,
   "metadata": {},
   "outputs": [
    {
     "name": "stdout",
     "output_type": "stream",
     "text": [
      "6.00 weeks of data\n"
     ]
    }
   ],
   "source": [
    "n_weeks = (data['end_date'] - data['start_date']) / pd.Timedelta(days=7)\n",
    "print(f'{n_weeks:.2f} weeks of data')"
   ]
  },
  {
   "cell_type": "code",
   "execution_count": 5,
   "metadata": {},
   "outputs": [
    {
     "data": {
      "text/plain": [
       "43430"
      ]
     },
     "execution_count": 5,
     "metadata": {},
     "output_type": "execute_result"
    }
   ],
   "source": [
    "rows = (data['df'].date >= data['start_date']) & (data['df'].date <= data['end_date']) & (data['df'].test_required == 1)\n",
    "sum(rows)"
   ]
  },
  {
   "cell_type": "code",
   "execution_count": 6,
   "metadata": {},
   "outputs": [],
   "source": [
    "df = methods.subset_data(data, rows, exposure='hcw', outcome='test_positive')"
   ]
  },
  {
   "cell_type": "markdown",
   "metadata": {},
   "source": [
    "# text for Results Section paragraph 1:"
   ]
  },
  {
   "cell_type": "code",
   "execution_count": 7,
   "metadata": {},
   "outputs": [
    {
     "name": "stdout",
     "output_type": "stream",
     "text": [
      "The survey data contained 43,430 respondents who were tested due to workplace requirements in the time period we focused on, 14,660 HCWs and 28,770 non-HCWs (see Table 1 for demographic details). There were 2,145 respondents who reported a positive test for COVID-19 in the last 14 days (588 among HCWs and 1,557 among non-HCWs).\n"
     ]
    }
   ],
   "source": [
    "print(f'The survey data contained {len(df):,.0f} respondents who were tested due to workplace requirements '\n",
    "      f'in the time period we focused on,'\n",
    "      f' {df.exposure.sum():,.0f} HCWs and {(1-df.exposure).sum():,.0f} non-HCWs (see Table 1 for demographic details).'\n",
    "      f' There were '\n",
    "      f'{df.outcome.sum():,.0f} respondents who reported a positive test for COVID-19 in the last 14 days '\n",
    "      f'({df[df.exposure==1].outcome.sum():,.0f} among HCWs and {df[df.exposure==0].outcome.sum():,.0f} among non-HCWs).')"
   ]
  },
  {
   "cell_type": "markdown",
   "metadata": {},
   "source": [
    "## Calculate relative risk with uncertainty"
   ]
  },
  {
   "cell_type": "code",
   "execution_count": 8,
   "metadata": {},
   "outputs": [
    {
     "name": "stdout",
     "output_type": "stream",
     "text": [
      "CPU times: user 51.7 s, sys: 999 ms, total: 52.7 s\n",
      "Wall time: 52.7 s\n"
     ]
    },
    {
     "data": {
      "text/plain": [
       "point_est    0.731588\n",
       "draw_0       0.746737\n",
       "draw_1       0.759099\n",
       "draw_2       0.759189\n",
       "               ...   \n",
       "draw_996     0.727963\n",
       "draw_997     0.740747\n",
       "draw_998     0.719303\n",
       "draw_999     0.751744\n",
       "Length: 1001, dtype: float64"
      ]
     },
     "execution_count": 8,
     "metadata": {},
     "output_type": "execute_result"
    }
   ],
   "source": [
    "%%time\n",
    "\n",
    "# set random seed for reproducibility\n",
    "np.random.seed(12345)\n",
    "rr_draws = methods.sample_rr_draws(df)\n",
    "rr_draws"
   ]
  },
  {
   "cell_type": "code",
   "execution_count": 9,
   "metadata": {},
   "outputs": [],
   "source": [
    "rr_mean, rr_lb, rr_ub = methods.my_summarize(rr_draws)"
   ]
  },
  {
   "cell_type": "code",
   "execution_count": 10,
   "metadata": {},
   "outputs": [
    {
     "name": "stdout",
     "output_type": "stream",
     "text": [
      "Among HCWs with a required test, 588 of 14,660 (4.0%) reported a positive test in the last 14 days, while among non-HCWs with a required test, 1,557 of 28,770 (5.41%) reported a positive test, for a relative COVID-19 prevalence ratio of 0.7 (95% UI 0.68 to 0.80).\n"
     ]
    }
   ],
   "source": [
    "print(f'Among HCWs with a required test, {df[df.exposure==1].outcome.sum():,.0f} of {df.exposure.sum():,.0f}'\n",
    "      f' ({df[df.exposure==1].outcome.mean()*100:,.1f}%) reported a positive test in the last 14 days,'\n",
    "      f' while among non-HCWs with a required test, '\n",
    "      f'{df[df.exposure==0].outcome.sum():,.0f} of {(df.exposure==0).sum():,.0f}'\n",
    "      f' ({df[df.exposure==0].outcome.mean()*100:,.2f}%) reported a positive test,'\n",
    "      f' for a relative COVID-19 prevalence ratio of {rr_mean:.1f} (95% UI {rr_lb:.2f} to {rr_ub:.2f}).'\n",
    "      )"
   ]
  },
  {
   "cell_type": "code",
   "execution_count": 11,
   "metadata": {},
   "outputs": [
    {
     "data": {
      "text/html": [
       "<div>\n",
       "<style scoped>\n",
       "    .dataframe tbody tr th:only-of-type {\n",
       "        vertical-align: middle;\n",
       "    }\n",
       "\n",
       "    .dataframe tbody tr th {\n",
       "        vertical-align: top;\n",
       "    }\n",
       "\n",
       "    .dataframe thead th {\n",
       "        text-align: right;\n",
       "    }\n",
       "</style>\n",
       "<table border=\"1\" class=\"dataframe\">\n",
       "  <thead>\n",
       "    <tr style=\"text-align: right;\">\n",
       "      <th></th>\n",
       "      <th>HCW - tested</th>\n",
       "      <th>HCW - positive</th>\n",
       "      <th>HCW - (%)</th>\n",
       "      <th>non-HCW - tested</th>\n",
       "      <th>non-HCW - positive</th>\n",
       "      <th>non-HCW - (%)</th>\n",
       "      <th>RR</th>\n",
       "      <th>95% UI</th>\n",
       "    </tr>\n",
       "  </thead>\n",
       "  <tbody>\n",
       "    <tr>\n",
       "      <th>0</th>\n",
       "      <td>14,660</td>\n",
       "      <td>588</td>\n",
       "      <td>4.0</td>\n",
       "      <td>28,770</td>\n",
       "      <td>1,557</td>\n",
       "      <td>5.4</td>\n",
       "      <td>0.73</td>\n",
       "      <td>0.68 to 0.80</td>\n",
       "    </tr>\n",
       "  </tbody>\n",
       "</table>\n",
       "</div>"
      ],
      "text/plain": [
       "  HCW - tested HCW - positive HCW - (%) non-HCW - tested non-HCW - positive  \\\n",
       "0       14,660            588       4.0           28,770              1,557   \n",
       "\n",
       "  non-HCW - (%)    RR        95% UI  \n",
       "0           5.4  0.73  0.68 to 0.80  "
      ]
     },
     "execution_count": 11,
     "metadata": {},
     "output_type": "execute_result"
    }
   ],
   "source": [
    "# table version of results\n",
    "t = pd.DataFrame(index=[0])\n",
    "t.loc[0, 'HCW - tested'] = f'{df.exposure.sum():,.0f}'\n",
    "t.loc[0, 'HCW - positive'] = f'{df[df.exposure==1].outcome.sum():,.0f}'\n",
    "t.loc[0, 'HCW - (%)'] = f'{df[df.exposure==1].outcome.mean()*100:,.1f}'\n",
    "\n",
    "t.loc[0, 'non-HCW - tested'] = f'{(1-df.exposure).sum():,.0f}'\n",
    "t.loc[0, 'non-HCW - positive'] = f'{df[df.exposure==0].outcome.sum():,.0f}'\n",
    "t.loc[0, 'non-HCW - (%)'] = f'{df[df.exposure==0].outcome.mean()*100:,.1f}'\n",
    "\n",
    "t.loc[0, 'RR'] = f'{rr_mean:.2f}'\n",
    "t.loc[0, '95% UI'] = f'{rr_lb:.2f} to {rr_ub:.2f}'\n",
    "\n",
    "t"
   ]
  },
  {
   "cell_type": "markdown",
   "metadata": {},
   "source": [
    "# Sensitivity analyses\n",
    "\n",
    "## Unweighted version of main result"
   ]
  },
  {
   "cell_type": "code",
   "execution_count": 12,
   "metadata": {},
   "outputs": [],
   "source": [
    "df['real_weight'] = df.weight\n",
    "df['weight'] = 1\n",
    "df['weighted_outcome'] = df.outcome"
   ]
  },
  {
   "cell_type": "code",
   "execution_count": 13,
   "metadata": {},
   "outputs": [
    {
     "data": {
      "text/plain": [
       "(0.7411303614096791, 0.6969560721128465, 0.792334081143401)"
      ]
     },
     "execution_count": 13,
     "metadata": {},
     "output_type": "execute_result"
    }
   ],
   "source": [
    "# set random seed for reproducibility\n",
    "np.random.seed(12345)\n",
    "unweighted_rr_draws = methods.sample_rr_draws(df)\n",
    "methods.my_summarize(unweighted_rr_draws)"
   ]
  },
  {
   "cell_type": "code",
   "execution_count": 14,
   "metadata": {},
   "outputs": [],
   "source": [
    "unweighted_rr_mean, unweighted_rr_lb, unweighted_rr_ub = \\\n",
    "    methods.my_summarize(unweighted_rr_draws)"
   ]
  },
  {
   "cell_type": "code",
   "execution_count": 15,
   "metadata": {},
   "outputs": [
    {
     "name": "stdout",
     "output_type": "stream",
     "text": [
      "When we did not use the sample weights to calculate the COVID-19 endorsement rates we found a relative COVID-19 incidence ratio of 0.7 (95% UI 0.7 to 0.8).\n"
     ]
    }
   ],
   "source": [
    "print(f'When we did not use the sample weights to calculate the COVID-19 endorsement rates we found'\n",
    "      f' a relative COVID-19 incidence ratio of {unweighted_rr_mean:.1f} '\n",
    "      f'(95% UI {unweighted_rr_lb:.1f} to {unweighted_rr_ub:.1f}).'\n",
    "      )"
   ]
  },
  {
   "cell_type": "code",
   "execution_count": 16,
   "metadata": {},
   "outputs": [],
   "source": [
    "df.weight = df.real_weight"
   ]
  },
  {
   "cell_type": "markdown",
   "metadata": {},
   "source": [
    "# For a different project, what is the RR of people who mask in different ways"
   ]
  },
  {
   "cell_type": "code",
   "execution_count": 17,
   "metadata": {},
   "outputs": [],
   "source": [
    "# data['df']['mask_var'] = (data['df'].mask_past5days == 1).astype(float)\n",
    "# df = methods.subset_data(data, data['df'].test_required, exposure='mask_var', outcome='test_positive')\n",
    "# methods.my_calc_and_summarize(df) # RR for all-the-time masked in past 5 days"
   ]
  },
  {
   "cell_type": "code",
   "execution_count": 18,
   "metadata": {},
   "outputs": [],
   "source": [
    "# for i in [2,3,4,5,6]:\n",
    "#     data['df']['mask_var'] = (data['df'].mask_past5days == i).astype(float)\n",
    "#     df = methods.subset_data(data, data['df'].test_required, exposure='mask_var', outcome='test_positive')\n",
    "#     print('Mask intensity:', i)\n",
    "#     print(methods.my_calc_and_summarize(df))\n",
    "#     print()"
   ]
  },
  {
   "cell_type": "code",
   "execution_count": 19,
   "metadata": {},
   "outputs": [],
   "source": [
    "# for i in [1,2,3,4,5,6,7]:\n",
    "#     data['df']['exposure_var'] = (data['df'].activities_past24hrs.fillna('').str.contains(f'{i}')).astype(float)\n",
    "#     df = methods.subset_data(data, data['df'].test_required,\n",
    "#                              exposure='exposure_var', outcome='test_positive')\n",
    "#     print('Activities includes:', i)\n",
    "#     print(methods.my_calc_and_summarize(df))\n",
    "#     print()"
   ]
  },
  {
   "cell_type": "code",
   "execution_count": 20,
   "metadata": {},
   "outputs": [],
   "source": [
    "# for i in [1,2,3,4,5,6,7]:\n",
    "#     data['df']['activity_var'] = (data['df'].activities_past24hrs.fillna('').str.contains(f'{i}')).astype(float)\n",
    "#     data['df']['exposure_var'] = (data['df'].masked_activities_past24hrs.fillna('').str.contains(f'{i}')).astype(float)\n",
    "#     df = methods.subset_data(data, data['df'].test_required & (data['df'].activity_var == 1),\n",
    "#                              exposure='exposure_var', outcome='test_positive')\n",
    "#     print('Masked activities includes:', i)\n",
    "#     print(methods.my_calc_and_summarize(df))\n",
    "#     print()"
   ]
  },
  {
   "cell_type": "markdown",
   "metadata": {},
   "source": [
    "## Sub-analyses for specific subsets of HCWs\n",
    "\n",
    "To understand how the results might vary between subgroups of HCWs, we repeated our analysis restricted to only doctors, only nurses, only home health aides, and only medical assistants:"
   ]
  },
  {
   "cell_type": "code",
   "execution_count": 21,
   "metadata": {},
   "outputs": [],
   "source": [
    "results = {}"
   ]
  },
  {
   "cell_type": "code",
   "execution_count": 22,
   "metadata": {},
   "outputs": [
    {
     "data": {
      "text/plain": [
       "43430"
      ]
     },
     "execution_count": 22,
     "metadata": {},
     "output_type": "execute_result"
    }
   ],
   "source": [
    "rows = (data['df'].date >= data['start_date']) & (data['df'].date <= data['end_date']) & (data['df'].test_required == 1)\n",
    "sum(rows)"
   ]
  },
  {
   "cell_type": "code",
   "execution_count": 23,
   "metadata": {},
   "outputs": [],
   "source": [
    "df = methods.subset_data(data, rows, exposure='hcw', outcome='test_positive')\n",
    "results['All HCWs'] = methods.my_calc_and_summarize(df)"
   ]
  },
  {
   "cell_type": "code",
   "execution_count": 24,
   "metadata": {},
   "outputs": [],
   "source": [
    "df['exposure'] = (data['df'].loc[rows, 'Q68'] == 1)  # Physician or surgeon\n",
    "results['Physician or surgeon'] = methods.my_calc_and_summarize(df)"
   ]
  },
  {
   "cell_type": "code",
   "execution_count": 25,
   "metadata": {},
   "outputs": [],
   "source": [
    "df['exposure'] = (data['df'].loc[rows, 'Q68'] == 2)  # Registered nurse (including nurse practitioner)\n",
    "results['Registered nurse (including nurse practitioner)'] = methods.my_calc_and_summarize(df)"
   ]
  },
  {
   "cell_type": "code",
   "execution_count": 26,
   "metadata": {},
   "outputs": [],
   "source": [
    "df['exposure'] = (data['df'].loc[rows, 'Q68'] == 3) \n",
    "results['Licensed practical or licensed vocational nurse'] = methods.my_calc_and_summarize(df)"
   ]
  },
  {
   "cell_type": "code",
   "execution_count": 27,
   "metadata": {},
   "outputs": [],
   "source": [
    "df['exposure'] = (data['df'].loc[rows, 'Q68'] == 4)\n",
    "results['Physician assistant'] = methods.my_calc_and_summarize(df)"
   ]
  },
  {
   "cell_type": "code",
   "execution_count": 28,
   "metadata": {},
   "outputs": [],
   "source": [
    "df['exposure'] = (data['df'].loc[rows, 'Q68'] == 5)\n",
    "results['Dentist'] = methods.my_calc_and_summarize(df)"
   ]
  },
  {
   "cell_type": "code",
   "execution_count": 29,
   "metadata": {},
   "outputs": [],
   "source": [
    "df['exposure'] = (data['df'].loc[rows, 'Q68'] == 6)\n",
    "results['Any other treating practitioner'] = methods.my_calc_and_summarize(df)"
   ]
  },
  {
   "cell_type": "code",
   "execution_count": 30,
   "metadata": {},
   "outputs": [],
   "source": [
    "df['exposure'] = (data['df'].loc[rows, 'Q68'] == 7)\n",
    "results['Pharmacist'] = methods.my_calc_and_summarize(df)"
   ]
  },
  {
   "cell_type": "code",
   "execution_count": 31,
   "metadata": {},
   "outputs": [],
   "source": [
    "df['exposure'] = (data['df'].loc[rows, 'Q68'] == 8)\n",
    "results['Any therapist'] = methods.my_calc_and_summarize(df)"
   ]
  },
  {
   "cell_type": "code",
   "execution_count": 32,
   "metadata": {},
   "outputs": [],
   "source": [
    "df['exposure'] = (data['df'].loc[rows, 'Q68'] == 9)\n",
    "results['Any health technologist or technician'] = methods.my_calc_and_summarize(df)"
   ]
  },
  {
   "cell_type": "code",
   "execution_count": 33,
   "metadata": {},
   "outputs": [],
   "source": [
    "df['exposure'] = (data['df'].loc[rows, 'Q68'] == 10)\n",
    "results['Veterinarian'] = methods.my_calc_and_summarize(df)"
   ]
  },
  {
   "cell_type": "code",
   "execution_count": 34,
   "metadata": {},
   "outputs": [],
   "source": [
    "df['exposure'] = (data['df'].loc[rows, 'Q69'] == 1)\n",
    "results['Nursing assistant or psychiatric aide'] = methods.my_calc_and_summarize(df)"
   ]
  },
  {
   "cell_type": "code",
   "execution_count": 35,
   "metadata": {},
   "outputs": [],
   "source": [
    "df['exposure'] = (data['df'].loc[rows, 'Q69'] == 2)\n",
    "results['Home health or personal care aide'] = methods.my_calc_and_summarize(df)"
   ]
  },
  {
   "cell_type": "code",
   "execution_count": 36,
   "metadata": {},
   "outputs": [],
   "source": [
    "df['exposure'] = (data['df'].loc[rows, 'Q69'] == 3)\n",
    "results['Occupational or physical therapy assistant or aide'] = methods.my_calc_and_summarize(df)"
   ]
  },
  {
   "cell_type": "code",
   "execution_count": 37,
   "metadata": {},
   "outputs": [],
   "source": [
    "df['exposure'] = (data['df'].loc[rows, 'Q69'] == 4)\n",
    "results['Massage therapist'] = methods.my_calc_and_summarize(df)"
   ]
  },
  {
   "cell_type": "code",
   "execution_count": 38,
   "metadata": {},
   "outputs": [],
   "source": [
    "df['exposure'] = (data['df'].loc[rows, 'Q69'] == 5)\n",
    "results['Dental assistant'] = methods.my_calc_and_summarize(df)"
   ]
  },
  {
   "cell_type": "code",
   "execution_count": 39,
   "metadata": {},
   "outputs": [],
   "source": [
    "df['exposure'] = (data['df'].loc[rows, 'Q69'] == 6)\n",
    "results['Medical assistant'] = methods.my_calc_and_summarize(df)"
   ]
  },
  {
   "cell_type": "code",
   "execution_count": 40,
   "metadata": {},
   "outputs": [],
   "source": [
    "df['exposure'] = (data['df'].loc[rows, 'Q69'] == 7)\n",
    "results['Medical transcriptionist'] = methods.my_calc_and_summarize(df)"
   ]
  },
  {
   "cell_type": "code",
   "execution_count": 41,
   "metadata": {},
   "outputs": [],
   "source": [
    "df['exposure'] = (data['df'].loc[rows, 'Q69'] == 8)\n",
    "results['Pharmacy aide'] = methods.my_calc_and_summarize(df)"
   ]
  },
  {
   "cell_type": "code",
   "execution_count": 42,
   "metadata": {},
   "outputs": [],
   "source": [
    "df['exposure'] = (data['df'].loc[rows, 'Q69'] == 9)\n",
    "results['Phlebotomist'] = methods.my_calc_and_summarize(df)"
   ]
  },
  {
   "cell_type": "code",
   "execution_count": 43,
   "metadata": {},
   "outputs": [],
   "source": [
    "df['exposure'] = (data['df'].loc[rows, 'Q69'] == 10)\n",
    "results['Veterinary assistant'] = methods.my_calc_and_summarize(df)"
   ]
  },
  {
   "cell_type": "code",
   "execution_count": 44,
   "metadata": {},
   "outputs": [],
   "source": [
    "df['exposure'] = (data['df'].loc[rows, 'Q69'] == 11)\n",
    "results['Any other healthcare support worker'] = methods.my_calc_and_summarize(df)"
   ]
  },
  {
   "cell_type": "code",
   "execution_count": 45,
   "metadata": {},
   "outputs": [],
   "source": [
    "hcw_types_results = pd.DataFrame(results).T\n",
    "hcw_types_results.columns = 'n_nonHCW', 'n_HCW', 'RR', 'lb', 'ub'"
   ]
  },
  {
   "cell_type": "code",
   "execution_count": null,
   "metadata": {},
   "outputs": [],
   "source": [
    "# pd.set_option('display.max_rows', 80)\n",
    "np.round(hcw_types_results,2)"
   ]
  },
  {
   "cell_type": "markdown",
   "metadata": {},
   "source": [
    "# Sensitivity analysis of those with required testing _and_ symptoms\n",
    "\n",
    "Herbie writes:\n",
    "> The one question I have at this point is how to account for work required testing.  I worry that there may be systematic differences in testing policies in the healthcare and non-healthcare setting.  Specifically, are individuals being tested because they are symptomatic, or is this part of routine testing?\n",
    "\n",
    "To investigate this, we can dig deeper into the \"why you were tested\" question that we used to subset on the individuals who were tested because of employeer/educational requirements (value \"4\").\n",
    "\n",
    "This question has a \"select all that apply\" answer, and includes \"I felt sick\" (value \"1\") as a response as well."
   ]
  },
  {
   "cell_type": "code",
   "execution_count": 47,
   "metadata": {},
   "outputs": [
    {
     "data": {
      "text/plain": [
       "4584"
      ]
     },
     "execution_count": 47,
     "metadata": {},
     "output_type": "execute_result"
    }
   ],
   "source": [
    "test_reason = data['df'].test_reason.fillna('')\n",
    "required_testing_and_felt_sick_rows = (test_reason.str.contains(\"4\")\n",
    "                                       & test_reason.str.contains(\"1\")) & (\n",
    "    (data['df'].date >= data['start_date']) & (data['df'].date <= data['end_date'])\n",
    ")\n",
    "\n",
    "sum(required_testing_and_felt_sick_rows)"
   ]
  },
  {
   "cell_type": "code",
   "execution_count": 48,
   "metadata": {},
   "outputs": [
    {
     "data": {
      "text/plain": [
       "38846"
      ]
     },
     "execution_count": 48,
     "metadata": {},
     "output_type": "execute_result"
    }
   ],
   "source": [
    "required_testing_and_not_felt_sick_rows = (test_reason.str.contains(\"4\")\n",
    "                                           & ~test_reason.str.contains(\"1\")) & (\n",
    "    (data['df'].date >= data['start_date']) & (data['df'].date <= data['end_date'])\n",
    ")\n",
    "sum(required_testing_and_not_felt_sick_rows)"
   ]
  },
  {
   "cell_type": "code",
   "execution_count": 49,
   "metadata": {},
   "outputs": [],
   "source": [
    "results = {}\n",
    "\n",
    "df = methods.subset_data(data, required_testing_and_not_felt_sick_rows, exposure='hcw', outcome='test_positive')\n",
    "results['Test required, did not feel sick'] = methods.my_calc_and_summarize(df)"
   ]
  },
  {
   "cell_type": "code",
   "execution_count": 50,
   "metadata": {},
   "outputs": [],
   "source": [
    "df = methods.subset_data(data, required_testing_and_felt_sick_rows, exposure='hcw', outcome='test_positive')\n",
    "results['Test required, felt sick'] = methods.my_calc_and_summarize(df)"
   ]
  },
  {
   "cell_type": "code",
   "execution_count": 51,
   "metadata": {},
   "outputs": [
    {
     "data": {
      "text/html": [
       "<div>\n",
       "<style scoped>\n",
       "    .dataframe tbody tr th:only-of-type {\n",
       "        vertical-align: middle;\n",
       "    }\n",
       "\n",
       "    .dataframe tbody tr th {\n",
       "        vertical-align: top;\n",
       "    }\n",
       "\n",
       "    .dataframe thead th {\n",
       "        text-align: right;\n",
       "    }\n",
       "</style>\n",
       "<table border=\"1\" class=\"dataframe\">\n",
       "  <thead>\n",
       "    <tr style=\"text-align: right;\">\n",
       "      <th></th>\n",
       "      <th>n_nonHCW</th>\n",
       "      <th>n_HCW</th>\n",
       "      <th>RR</th>\n",
       "      <th>lb</th>\n",
       "      <th>ub</th>\n",
       "    </tr>\n",
       "  </thead>\n",
       "  <tbody>\n",
       "    <tr>\n",
       "      <th>Test required, did not feel sick</th>\n",
       "      <td>25236.0</td>\n",
       "      <td>13610.0</td>\n",
       "      <td>1.09</td>\n",
       "      <td>1.01</td>\n",
       "      <td>1.27</td>\n",
       "    </tr>\n",
       "    <tr>\n",
       "      <th>Test required, felt sick</th>\n",
       "      <td>3534.0</td>\n",
       "      <td>1050.0</td>\n",
       "      <td>0.80</td>\n",
       "      <td>0.69</td>\n",
       "      <td>0.92</td>\n",
       "    </tr>\n",
       "  </tbody>\n",
       "</table>\n",
       "</div>"
      ],
      "text/plain": [
       "                                  n_nonHCW    n_HCW    RR    lb    ub\n",
       "Test required, did not feel sick   25236.0  13610.0  1.09  1.01  1.27\n",
       "Test required, felt sick            3534.0   1050.0  0.80  0.69  0.92"
      ]
     },
     "execution_count": 51,
     "metadata": {},
     "output_type": "execute_result"
    }
   ],
   "source": [
    "required_testing_results = pd.DataFrame(results).T\n",
    "required_testing_results.columns = 'n_nonHCW', 'n_HCW', 'RR', 'lb', 'ub'\n",
    "np.round(required_testing_results, 2)"
   ]
  },
  {
   "cell_type": "markdown",
   "metadata": {},
   "source": [
    "# Sensitivity analysis of those who work outside the home\n",
    "\n",
    "Dan writes:\n",
    "> HCW in this study encompasses a broad group that likely has varying hospital exposures. My sister-in-law is an OT who works from home currently. Do these study HCW represent the HCW that a patient encounters when seeking medical care?\n",
    "\n",
    "The survey does contain some information about whether the workers are working from home, but it is pretty coarse, “Was any of your work for pay in the last four weeks outside your home?” I’m going to check if it changes any results though, because I bet it doesn’t (because who would be required to test if they were working from home?)."
   ]
  },
  {
   "cell_type": "code",
   "execution_count": 52,
   "metadata": {},
   "outputs": [
    {
     "data": {
      "text/plain": [
       "28586"
      ]
     },
     "execution_count": 52,
     "metadata": {},
     "output_type": "execute_result"
    }
   ],
   "source": [
    "required_testing_and_outside_work = data['df'].test_required & (data['df'].work_outside_home == 1) & (\n",
    "    (data['df'].date >= data['start_date']) & (data['df'].date <= data['end_date'])\n",
    ")\n",
    "sum(required_testing_and_outside_work)"
   ]
  },
  {
   "cell_type": "code",
   "execution_count": 53,
   "metadata": {},
   "outputs": [
    {
     "data": {
      "text/plain": [
       "14844"
      ]
     },
     "execution_count": 53,
     "metadata": {},
     "output_type": "execute_result"
    }
   ],
   "source": [
    "required_testing_and_not_outside_work = data['df'].test_required & (data['df'].work_outside_home != 1) & (\n",
    "    (data['df'].date >= data['start_date']) & (data['df'].date <= data['end_date'])\n",
    ")\n",
    "sum(required_testing_and_not_outside_work)"
   ]
  },
  {
   "cell_type": "code",
   "execution_count": 54,
   "metadata": {},
   "outputs": [],
   "source": [
    "results = {}\n",
    "\n",
    "df = methods.subset_data(data, required_testing_and_outside_work, exposure='hcw', outcome='test_positive')\n",
    "results['Test required, worked outside of home'] = methods.my_calc_and_summarize(df)"
   ]
  },
  {
   "cell_type": "code",
   "execution_count": 55,
   "metadata": {},
   "outputs": [],
   "source": [
    "df = methods.subset_data(data, required_testing_and_not_outside_work, exposure='hcw', outcome='test_positive')\n",
    "results['Test required, did not work outside of home'] = methods.my_calc_and_summarize(df)"
   ]
  },
  {
   "cell_type": "code",
   "execution_count": 56,
   "metadata": {},
   "outputs": [
    {
     "data": {
      "text/html": [
       "<div>\n",
       "<style scoped>\n",
       "    .dataframe tbody tr th:only-of-type {\n",
       "        vertical-align: middle;\n",
       "    }\n",
       "\n",
       "    .dataframe tbody tr th {\n",
       "        vertical-align: top;\n",
       "    }\n",
       "\n",
       "    .dataframe thead th {\n",
       "        text-align: right;\n",
       "    }\n",
       "</style>\n",
       "<table border=\"1\" class=\"dataframe\">\n",
       "  <thead>\n",
       "    <tr style=\"text-align: right;\">\n",
       "      <th></th>\n",
       "      <th>n_nonHCW</th>\n",
       "      <th>n_HCW</th>\n",
       "      <th>RR</th>\n",
       "      <th>lb</th>\n",
       "      <th>ub</th>\n",
       "    </tr>\n",
       "  </thead>\n",
       "  <tbody>\n",
       "    <tr>\n",
       "      <th>Test required, worked outside of home</th>\n",
       "      <td>15797.0</td>\n",
       "      <td>12789.0</td>\n",
       "      <td>0.81</td>\n",
       "      <td>0.72</td>\n",
       "      <td>0.88</td>\n",
       "    </tr>\n",
       "    <tr>\n",
       "      <th>Test required, did not work outside of home</th>\n",
       "      <td>12973.0</td>\n",
       "      <td>1871.0</td>\n",
       "      <td>0.77</td>\n",
       "      <td>0.59</td>\n",
       "      <td>0.95</td>\n",
       "    </tr>\n",
       "  </tbody>\n",
       "</table>\n",
       "</div>"
      ],
      "text/plain": [
       "                                             n_nonHCW    n_HCW    RR    lb  \\\n",
       "Test required, worked outside of home         15797.0  12789.0  0.81  0.72   \n",
       "Test required, did not work outside of home   12973.0   1871.0  0.77  0.59   \n",
       "\n",
       "                                               ub  \n",
       "Test required, worked outside of home        0.88  \n",
       "Test required, did not work outside of home  0.95  "
      ]
     },
     "execution_count": 56,
     "metadata": {},
     "output_type": "execute_result"
    }
   ],
   "source": [
    "outside_work_results = pd.DataFrame(results).T\n",
    "outside_work_results.columns = 'n_nonHCW', 'n_HCW', 'RR', 'lb', 'ub'\n",
    "np.round(outside_work_results, 2)"
   ]
  },
  {
   "cell_type": "markdown",
   "metadata": {},
   "source": [
    "# For a different project, what is the RR of people who attend mass gatherings, compared to those who did not?"
   ]
  },
  {
   "cell_type": "code",
   "execution_count": 57,
   "metadata": {},
   "outputs": [
    {
     "data": {
      "text/plain": [
       "[199188, 5450, 5.839862783640819, 5.737774327264093, 5.969629004362062]"
      ]
     },
     "execution_count": 57,
     "metadata": {},
     "output_type": "execute_result"
    }
   ],
   "source": [
    "data['df']['mass_gathering'] = data['df'].test_reason.fillna('').str.contains('5')  # outdoor gathering\n",
    "df = methods.subset_data(data, data['df'].test_required, exposure='mass_gathering', outcome='test_positive')\n",
    "methods.my_calc_and_summarize(df)"
   ]
  },
  {
   "cell_type": "code",
   "execution_count": 58,
   "metadata": {},
   "outputs": [
    {
     "data": {
      "text/plain": [
       "[197143, 7495, 5.35384040449148, 5.262049922837521, 5.4681418387354785]"
      ]
     },
     "execution_count": 58,
     "metadata": {},
     "output_type": "execute_result"
    }
   ],
   "source": [
    "data['df']['mass_gathering'] = data['df'].test_reason.fillna('').str.contains('6')  # indoor gathering\n",
    "df = methods.subset_data(data, data['df'].test_required, exposure='mass_gathering', outcome='test_positive')\n",
    "methods.my_calc_and_summarize(df)"
   ]
  },
  {
   "cell_type": "markdown",
   "metadata": {},
   "source": [
    "# For another question work from home vs not among all workers"
   ]
  },
  {
   "cell_type": "code",
   "execution_count": 59,
   "metadata": {},
   "outputs": [
    {
     "data": {
      "text/plain": [
       "43430"
      ]
     },
     "execution_count": 59,
     "metadata": {},
     "output_type": "execute_result"
    }
   ],
   "source": [
    "rows = (data['df'].date >= data['start_date']) & (data['df'].date <= data['end_date']) & (data['df'].test_required == 1)\n",
    "sum(rows)"
   ]
  },
  {
   "cell_type": "code",
   "execution_count": 60,
   "metadata": {},
   "outputs": [
    {
     "data": {
      "text/plain": [
       "[14844, 28586, 0.7387742622684594, 0.7030626583122089, 0.8127058118756061]"
      ]
     },
     "execution_count": 60,
     "metadata": {},
     "output_type": "execute_result"
    }
   ],
   "source": [
    "df = methods.subset_data(data, rows, exposure='work_outside_home', outcome='test_positive')\n",
    "methods.my_calc_and_summarize(df)"
   ]
  },
  {
   "cell_type": "code",
   "execution_count": 61,
   "metadata": {},
   "outputs": [
    {
     "data": {
      "text/plain": [
       "[14844, 28586, 1.031253205615104, 1.023148548465216, 1.0375152612908656]"
      ]
     },
     "execution_count": 61,
     "metadata": {},
     "output_type": "execute_result"
    }
   ],
   "source": [
    "df = methods.subset_data(data, rows, exposure='work_outside_home', outcome='test_negative')\n",
    "methods.my_calc_and_summarize(df)"
   ]
  },
  {
   "cell_type": "code",
   "execution_count": null,
   "metadata": {},
   "outputs": [],
   "source": []
  }
 ],
 "metadata": {
  "kernelspec": {
   "display_name": "Python 3",
   "language": "python",
   "name": "python3"
  },
  "language_info": {
   "codemirror_mode": {
    "name": "ipython",
    "version": 3
   },
   "file_extension": ".py",
   "mimetype": "text/x-python",
   "name": "python",
   "nbconvert_exporter": "python",
   "pygments_lexer": "ipython3",
   "version": "3.7.10"
  }
 },
 "nbformat": 4,
 "nbformat_minor": 2
}

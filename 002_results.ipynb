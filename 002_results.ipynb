{
 "cells": [
  {
   "cell_type": "code",
   "execution_count": 1,
   "metadata": {},
   "outputs": [
    {
     "name": "stdout",
     "output_type": "stream",
     "text": [
      "Tue Oct 27 10:10:23 PDT 2020\r\n"
     ]
    }
   ],
   "source": [
    "import numpy as np, matplotlib.pyplot as plt, pandas as pd\n",
    "pd.set_option('display.max_rows', 8)\n",
    "!date\n",
    "\n",
    "import methods\n",
    "\n",
    "%load_ext autoreload\n",
    "%autoreload 2"
   ]
  },
  {
   "cell_type": "markdown",
   "metadata": {},
   "source": [
    "# Calculations for results section"
   ]
  },
  {
   "cell_type": "markdown",
   "metadata": {},
   "source": [
    "## Load data files"
   ]
  },
  {
   "cell_type": "code",
   "execution_count": 2,
   "metadata": {},
   "outputs": [
    {
     "name": "stderr",
     "output_type": "stream",
     "text": [
      "/homes/abie/.conda/envs/vivarium_conic_sqlns/lib/python3.6/site-packages/numpy/lib/arraysetops.py:522: FutureWarning: elementwise comparison failed; returning scalar instead, but in the future will perform elementwise comparison\n",
      "  mask |= (ar1 == a)\n"
     ]
    }
   ],
   "source": [
    "data = methods.load_data()"
   ]
  },
  {
   "cell_type": "code",
   "execution_count": 3,
   "metadata": {},
   "outputs": [
    {
     "data": {
      "text/plain": [
       "('September 6, 2020', 'October 18, 2020')"
      ]
     },
     "execution_count": 3,
     "metadata": {},
     "output_type": "execute_result"
    }
   ],
   "source": [
    "data['data_start_date'].strftime(methods.date_fmt), data['most_recent_data_date'].strftime(methods.date_fmt)"
   ]
  },
  {
   "cell_type": "code",
   "execution_count": 4,
   "metadata": {},
   "outputs": [
    {
     "name": "stdout",
     "output_type": "stream",
     "text": [
      "6.00 weeks of data\n"
     ]
    }
   ],
   "source": [
    "n_weeks = (data['most_recent_data_date'] - data['data_start_date']) / pd.Timedelta(days=7)\n",
    "print(f'{n_weeks:.2f} weeks of data')"
   ]
  },
  {
   "cell_type": "code",
   "execution_count": 5,
   "metadata": {},
   "outputs": [
    {
     "data": {
      "text/plain": [
       "40552"
      ]
     },
     "execution_count": 5,
     "metadata": {},
     "output_type": "execute_result"
    }
   ],
   "source": [
    "rows = (data['df'].date >= data['data_start_date']) & (data['df'].test_required == 1)\n",
    "sum(rows)"
   ]
  },
  {
   "cell_type": "code",
   "execution_count": 6,
   "metadata": {},
   "outputs": [],
   "source": [
    "df = methods.subset_data(data, rows, exposure='hcw', outcome='test_positive')"
   ]
  },
  {
   "cell_type": "markdown",
   "metadata": {},
   "source": [
    "# text for Results Section paragraph 1:"
   ]
  },
  {
   "cell_type": "code",
   "execution_count": 7,
   "metadata": {},
   "outputs": [
    {
     "name": "stdout",
     "output_type": "stream",
     "text": [
      "The survey data contained 40,552 respondents who were tested due to workplace requirements in the time period we focused on, 13,747 HCWs and 26,805 non-HCWs (see Table 1 for demographic details). There were 1,993 respondents who reported a positive test for COVID-19 in the last 14 days (527 among HCWs and 1,466 among non-HCWs).\n"
     ]
    }
   ],
   "source": [
    "print(f'The survey data contained {len(df):,.0f} respondents who were tested due to workplace requirements '\n",
    "      f'in the time period we focused on,'\n",
    "      f' {df.exposure.sum():,.0f} HCWs and {(1-df.exposure).sum():,.0f} non-HCWs (see Table 1 for demographic details).'\n",
    "      f' There were '\n",
    "      f'{df.outcome.sum():,.0f} respondents who reported a positive test for COVID-19 in the last 14 days '\n",
    "      f'({df[df.exposure==1].outcome.sum():,.0f} among HCWs and {df[df.exposure==0].outcome.sum():,.0f} among non-HCWs).')"
   ]
  },
  {
   "cell_type": "markdown",
   "metadata": {},
   "source": [
    "## Calculate relative risk with uncertainty"
   ]
  },
  {
   "cell_type": "code",
   "execution_count": 8,
   "metadata": {},
   "outputs": [
    {
     "name": "stdout",
     "output_type": "stream",
     "text": [
      "CPU times: user 1min 6s, sys: 156 ms, total: 1min 6s\n",
      "Wall time: 1min 6s\n"
     ]
    },
    {
     "data": {
      "text/plain": [
       "point_est    0.693788\n",
       "draw_0       0.719269\n",
       "draw_1       0.701832\n",
       "draw_2       0.676846\n",
       "               ...   \n",
       "draw_996     0.703117\n",
       "draw_997     0.656673\n",
       "draw_998     0.720599\n",
       "draw_999     0.683855\n",
       "Length: 1001, dtype: float64"
      ]
     },
     "execution_count": 8,
     "metadata": {},
     "output_type": "execute_result"
    }
   ],
   "source": [
    "%%time\n",
    "\n",
    "# set random seed for reproducibility\n",
    "np.random.seed(12345)\n",
    "rr_draws = methods.sample_rr_draws(df)\n",
    "rr_draws"
   ]
  },
  {
   "cell_type": "code",
   "execution_count": 9,
   "metadata": {},
   "outputs": [],
   "source": [
    "rr_mean, rr_lb, rr_ub = methods.my_summarize(rr_draws)"
   ]
  },
  {
   "cell_type": "code",
   "execution_count": 10,
   "metadata": {},
   "outputs": [
    {
     "name": "stdout",
     "output_type": "stream",
     "text": [
      "Among HCWs with a required test, 527 of 13,747 (3.8%) reported a positive test in the last 14 days, while among non-HCWs with a required test, 1,466 of 26,805 (5.5%) reported a positive test, for a relative COVID-19 prevalence ratio of 0.7 (95% UI 0.6 to 0.8).\n"
     ]
    }
   ],
   "source": [
    "print(f'Among HCWs with a required test, {df[df.exposure==1].outcome.sum():,.0f} of {df.exposure.sum():,.0f}'\n",
    "      f' ({df[df.exposure==1].outcome.mean()*100:,.1f}%) reported a positive test in the last 14 days,'\n",
    "      f' while among non-HCWs with a required test, '\n",
    "      f'{df[df.exposure==0].outcome.sum():,.0f} of {(df.exposure==0).sum():,.0f}'\n",
    "      f' ({df[df.exposure==0].outcome.mean()*100:,.1f}%) reported a positive test,'\n",
    "      f' for a relative COVID-19 prevalence ratio of {rr_mean:.1f} (95% UI {rr_lb:.1f} to {rr_ub:.1f}).'\n",
    "      )"
   ]
  },
  {
   "cell_type": "code",
   "execution_count": 11,
   "metadata": {},
   "outputs": [
    {
     "data": {
      "text/html": [
       "<div>\n",
       "<style scoped>\n",
       "    .dataframe tbody tr th:only-of-type {\n",
       "        vertical-align: middle;\n",
       "    }\n",
       "\n",
       "    .dataframe tbody tr th {\n",
       "        vertical-align: top;\n",
       "    }\n",
       "\n",
       "    .dataframe thead th {\n",
       "        text-align: right;\n",
       "    }\n",
       "</style>\n",
       "<table border=\"1\" class=\"dataframe\">\n",
       "  <thead>\n",
       "    <tr style=\"text-align: right;\">\n",
       "      <th></th>\n",
       "      <th>HCW - tested</th>\n",
       "      <th>HCW - positive</th>\n",
       "      <th>HCW - (%)</th>\n",
       "      <th>non-HCW - tested</th>\n",
       "      <th>non-HCW - positive</th>\n",
       "      <th>non-HCW - (%)</th>\n",
       "      <th>RR</th>\n",
       "      <th>95% UI</th>\n",
       "    </tr>\n",
       "  </thead>\n",
       "  <tbody>\n",
       "    <tr>\n",
       "      <th>0</th>\n",
       "      <td>13,747</td>\n",
       "      <td>527</td>\n",
       "      <td>3.8</td>\n",
       "      <td>26,805</td>\n",
       "      <td>1,466</td>\n",
       "      <td>5.5</td>\n",
       "      <td>0.7</td>\n",
       "      <td>0.6 to 0.8</td>\n",
       "    </tr>\n",
       "  </tbody>\n",
       "</table>\n",
       "</div>"
      ],
      "text/plain": [
       "  HCW - tested HCW - positive HCW - (%) non-HCW - tested non-HCW - positive  \\\n",
       "0       13,747            527       3.8           26,805              1,466   \n",
       "\n",
       "  non-HCW - (%)   RR      95% UI  \n",
       "0           5.5  0.7  0.6 to 0.8  "
      ]
     },
     "execution_count": 11,
     "metadata": {},
     "output_type": "execute_result"
    }
   ],
   "source": [
    "# table version of results\n",
    "t = pd.DataFrame(index=[0])\n",
    "t.loc[0, 'HCW - tested'] = f'{df.exposure.sum():,.0f}'\n",
    "t.loc[0, 'HCW - positive'] = f'{df[df.exposure==1].outcome.sum():,.0f}'\n",
    "t.loc[0, 'HCW - (%)'] = f'{df[df.exposure==1].outcome.mean()*100:,.1f}'\n",
    "\n",
    "t.loc[0, 'non-HCW - tested'] = f'{(1-df.exposure).sum():,.0f}'\n",
    "t.loc[0, 'non-HCW - positive'] = f'{df[df.exposure==0].outcome.sum():,.0f}'\n",
    "t.loc[0, 'non-HCW - (%)'] = f'{df[df.exposure==0].outcome.mean()*100:,.1f}'\n",
    "\n",
    "t.loc[0, 'RR'] = f'{rr_mean:.1f}'\n",
    "t.loc[0, '95% UI'] = f'{rr_lb:.1f} to {rr_ub:.1f}'\n",
    "\n",
    "t"
   ]
  },
  {
   "cell_type": "markdown",
   "metadata": {},
   "source": [
    "# Sensitivity analyses\n",
    "\n",
    "## Unweighted version of main result"
   ]
  },
  {
   "cell_type": "code",
   "execution_count": 12,
   "metadata": {},
   "outputs": [],
   "source": [
    "df['weight'] = 1\n",
    "df['weighted_outcome'] = df.outcome"
   ]
  },
  {
   "cell_type": "code",
   "execution_count": 13,
   "metadata": {},
   "outputs": [
    {
     "data": {
      "text/plain": [
       "(0.7009459387443184, 0.6481467734657929, 0.74171366376853)"
      ]
     },
     "execution_count": 13,
     "metadata": {},
     "output_type": "execute_result"
    }
   ],
   "source": [
    "# set random seed for reproducibility\n",
    "np.random.seed(12345)\n",
    "unweighted_rr_draws = methods.sample_rr_draws(df)\n",
    "methods.my_summarize(unweighted_rr_draws)"
   ]
  },
  {
   "cell_type": "code",
   "execution_count": 14,
   "metadata": {},
   "outputs": [],
   "source": [
    "unweighted_rr_mean, unweighted_rr_lb, unweighted_rr_ub = \\\n",
    "    methods.my_summarize(unweighted_rr_draws)"
   ]
  },
  {
   "cell_type": "code",
   "execution_count": 15,
   "metadata": {},
   "outputs": [
    {
     "name": "stdout",
     "output_type": "stream",
     "text": [
      "When we did not use the sample weights to calculate the COVID-19 endorsement rates we found a relative COVID-19 incidence ratio of 0.7 (95% UI 0.6 to 0.7).\n"
     ]
    }
   ],
   "source": [
    "print(f'When we did not use the sample weights to calculate the COVID-19 endorsement rates we found'\n",
    "      f' a relative COVID-19 incidence ratio of {unweighted_rr_mean:.1f} '\n",
    "      f'(95% UI {unweighted_rr_lb:.1f} to {unweighted_rr_ub:.1f}).'\n",
    "      )"
   ]
  },
  {
   "cell_type": "markdown",
   "metadata": {},
   "source": [
    "## Sub-analyses for specific subsets of HCWs\n",
    "\n",
    "To understand how the results might vary between subgroups of HCWs, we repeated our analysis restricted to only doctors, only nurses, only home health aides, and only medical assistants:"
   ]
  },
  {
   "cell_type": "code",
   "execution_count": 16,
   "metadata": {},
   "outputs": [],
   "source": [
    "results = {}"
   ]
  },
  {
   "cell_type": "code",
   "execution_count": 17,
   "metadata": {},
   "outputs": [],
   "source": [
    "rows = (data['df'].date >= data['data_start_date']) & (data['df'].test_required == 1)"
   ]
  },
  {
   "cell_type": "code",
   "execution_count": 18,
   "metadata": {},
   "outputs": [],
   "source": [
    "df = methods.subset_data(data, rows, exposure='hcw', outcome='test_positive')\n",
    "results['All HCWs'] = methods.my_calc_and_summarize(df)"
   ]
  },
  {
   "cell_type": "code",
   "execution_count": 19,
   "metadata": {},
   "outputs": [],
   "source": [
    "df['exposure'] = (data['df'].loc[rows, 'Q68'] == 1)  # Physician or surgeon\n",
    "results['Physician or surgeon'] = methods.my_calc_and_summarize(df)"
   ]
  },
  {
   "cell_type": "code",
   "execution_count": 20,
   "metadata": {},
   "outputs": [],
   "source": [
    "df['exposure'] = (data['df'].loc[rows, 'Q68'] == 2)  # Registered nurse (including nurse practitioner)\n",
    "results['Registered nurse (including nurse practitioner)'] = methods.my_calc_and_summarize(df)"
   ]
  },
  {
   "cell_type": "code",
   "execution_count": 21,
   "metadata": {},
   "outputs": [],
   "source": [
    "df['exposure'] = (data['df'].loc[rows, 'Q68'] == 3) \n",
    "results['Licensed practical or licensed vocational nurse'] = methods.my_calc_and_summarize(df)"
   ]
  },
  {
   "cell_type": "code",
   "execution_count": 22,
   "metadata": {},
   "outputs": [],
   "source": [
    "df['exposure'] = (data['df'].loc[rows, 'Q68'] == 4)\n",
    "results['Physician assistant'] = methods.my_calc_and_summarize(df)"
   ]
  },
  {
   "cell_type": "code",
   "execution_count": 23,
   "metadata": {},
   "outputs": [],
   "source": [
    "df['exposure'] = (data['df'].loc[rows, 'Q68'] == 5)\n",
    "results['Dentist'] = methods.my_calc_and_summarize(df)"
   ]
  },
  {
   "cell_type": "code",
   "execution_count": 24,
   "metadata": {},
   "outputs": [],
   "source": [
    "df['exposure'] = (data['df'].loc[rows, 'Q68'] == 6)\n",
    "results['Any other treating practitioner'] = methods.my_calc_and_summarize(df)"
   ]
  },
  {
   "cell_type": "code",
   "execution_count": 25,
   "metadata": {},
   "outputs": [],
   "source": [
    "df['exposure'] = (data['df'].loc[rows, 'Q68'] == 7)\n",
    "results['Pharmacist'] = methods.my_calc_and_summarize(df)"
   ]
  },
  {
   "cell_type": "code",
   "execution_count": 26,
   "metadata": {},
   "outputs": [],
   "source": [
    "df['exposure'] = (data['df'].loc[rows, 'Q68'] == 8)\n",
    "results['Any therapist'] = methods.my_calc_and_summarize(df)"
   ]
  },
  {
   "cell_type": "code",
   "execution_count": 27,
   "metadata": {},
   "outputs": [],
   "source": [
    "df['exposure'] = (data['df'].loc[rows, 'Q68'] == 9)\n",
    "results['Any health technologist or technician'] = methods.my_calc_and_summarize(df)"
   ]
  },
  {
   "cell_type": "code",
   "execution_count": 28,
   "metadata": {},
   "outputs": [],
   "source": [
    "df['exposure'] = (data['df'].loc[rows, 'Q68'] == 10)\n",
    "results['Veterinarian'] = methods.my_calc_and_summarize(df)"
   ]
  },
  {
   "cell_type": "code",
   "execution_count": 29,
   "metadata": {},
   "outputs": [],
   "source": [
    "df['exposure'] = (data['df'].loc[rows, 'Q69'] == 1)\n",
    "results['Nursing assistant or psychiatric aide'] = methods.my_calc_and_summarize(df)"
   ]
  },
  {
   "cell_type": "code",
   "execution_count": 30,
   "metadata": {},
   "outputs": [],
   "source": [
    "df['exposure'] = (data['df'].loc[rows, 'Q69'] == 2)\n",
    "results['Home health or personal care aide'] = methods.my_calc_and_summarize(df)"
   ]
  },
  {
   "cell_type": "code",
   "execution_count": 31,
   "metadata": {},
   "outputs": [],
   "source": [
    "df['exposure'] = (data['df'].loc[rows, 'Q69'] == 3)\n",
    "results['Occupational or physical therapy assistant or aide'] = methods.my_calc_and_summarize(df)"
   ]
  },
  {
   "cell_type": "code",
   "execution_count": 32,
   "metadata": {},
   "outputs": [],
   "source": [
    "df['exposure'] = (data['df'].loc[rows, 'Q69'] == 4)\n",
    "results['Massage therapist'] = methods.my_calc_and_summarize(df)"
   ]
  },
  {
   "cell_type": "code",
   "execution_count": 33,
   "metadata": {},
   "outputs": [],
   "source": [
    "df['exposure'] = (data['df'].loc[rows, 'Q69'] == 5)\n",
    "results['Dental assistant'] = methods.my_calc_and_summarize(df)"
   ]
  },
  {
   "cell_type": "code",
   "execution_count": 34,
   "metadata": {},
   "outputs": [],
   "source": [
    "df['exposure'] = (data['df'].loc[rows, 'Q69'] == 6)\n",
    "results['Medical assistant'] = methods.my_calc_and_summarize(df)"
   ]
  },
  {
   "cell_type": "code",
   "execution_count": 35,
   "metadata": {},
   "outputs": [],
   "source": [
    "df['exposure'] = (data['df'].loc[rows, 'Q69'] == 7)\n",
    "results['Medical transcriptionist'] = methods.my_calc_and_summarize(df)"
   ]
  },
  {
   "cell_type": "code",
   "execution_count": 36,
   "metadata": {},
   "outputs": [],
   "source": [
    "df['exposure'] = (data['df'].loc[rows, 'Q69'] == 8)\n",
    "results['Pharmacy aide'] = methods.my_calc_and_summarize(df)"
   ]
  },
  {
   "cell_type": "code",
   "execution_count": 37,
   "metadata": {},
   "outputs": [],
   "source": [
    "df['exposure'] = (data['df'].loc[rows, 'Q69'] == 9)\n",
    "results['Phlebotomist'] = methods.my_calc_and_summarize(df)"
   ]
  },
  {
   "cell_type": "code",
   "execution_count": 38,
   "metadata": {},
   "outputs": [],
   "source": [
    "df['exposure'] = (data['df'].loc[rows, 'Q69'] == 10)\n",
    "results['Veterinary assistant'] = methods.my_calc_and_summarize(df)"
   ]
  },
  {
   "cell_type": "code",
   "execution_count": 39,
   "metadata": {},
   "outputs": [],
   "source": [
    "df['exposure'] = (data['df'].loc[rows, 'Q69'] == 11)\n",
    "results['Any other healthcare support worker'] = methods.my_calc_and_summarize(df)"
   ]
  },
  {
   "cell_type": "code",
   "execution_count": 40,
   "metadata": {},
   "outputs": [],
   "source": [
    "hcw_types_results = pd.DataFrame(results).T\n",
    "hcw_types_results.columns = 'n_nonHCW', 'n_HCW', 'RR', 'lb', 'ub'"
   ]
  },
  {
   "cell_type": "code",
   "execution_count": 41,
   "metadata": {},
   "outputs": [
    {
     "data": {
      "text/html": [
       "<div>\n",
       "<style scoped>\n",
       "    .dataframe tbody tr th:only-of-type {\n",
       "        vertical-align: middle;\n",
       "    }\n",
       "\n",
       "    .dataframe tbody tr th {\n",
       "        vertical-align: top;\n",
       "    }\n",
       "\n",
       "    .dataframe thead th {\n",
       "        text-align: right;\n",
       "    }\n",
       "</style>\n",
       "<table border=\"1\" class=\"dataframe\">\n",
       "  <thead>\n",
       "    <tr style=\"text-align: right;\">\n",
       "      <th></th>\n",
       "      <th>n_nonHCW</th>\n",
       "      <th>n_HCW</th>\n",
       "      <th>RR</th>\n",
       "      <th>lb</th>\n",
       "      <th>ub</th>\n",
       "    </tr>\n",
       "  </thead>\n",
       "  <tbody>\n",
       "    <tr>\n",
       "      <th>All HCWs</th>\n",
       "      <td>26805.0</td>\n",
       "      <td>13747.0</td>\n",
       "      <td>0.69</td>\n",
       "      <td>0.63</td>\n",
       "      <td>0.77</td>\n",
       "    </tr>\n",
       "    <tr>\n",
       "      <th>Physician or surgeon</th>\n",
       "      <td>40277.0</td>\n",
       "      <td>275.0</td>\n",
       "      <td>2.62</td>\n",
       "      <td>1.78</td>\n",
       "      <td>3.47</td>\n",
       "    </tr>\n",
       "    <tr>\n",
       "      <th>Registered nurse (including nurse practitioner)</th>\n",
       "      <td>37573.0</td>\n",
       "      <td>2979.0</td>\n",
       "      <td>0.62</td>\n",
       "      <td>0.58</td>\n",
       "      <td>0.80</td>\n",
       "    </tr>\n",
       "    <tr>\n",
       "      <th>Licensed practical or licensed vocational nurse</th>\n",
       "      <td>38560.0</td>\n",
       "      <td>1992.0</td>\n",
       "      <td>0.63</td>\n",
       "      <td>0.53</td>\n",
       "      <td>0.78</td>\n",
       "    </tr>\n",
       "    <tr>\n",
       "      <th>Physician assistant</th>\n",
       "      <td>40405.0</td>\n",
       "      <td>147.0</td>\n",
       "      <td>0.66</td>\n",
       "      <td>0.37</td>\n",
       "      <td>1.26</td>\n",
       "    </tr>\n",
       "    <tr>\n",
       "      <th>Dentist</th>\n",
       "      <td>40518.0</td>\n",
       "      <td>34.0</td>\n",
       "      <td>0.38</td>\n",
       "      <td>0.00</td>\n",
       "      <td>0.83</td>\n",
       "    </tr>\n",
       "    <tr>\n",
       "      <th>Any other treating practitioner</th>\n",
       "      <td>40189.0</td>\n",
       "      <td>363.0</td>\n",
       "      <td>0.54</td>\n",
       "      <td>0.29</td>\n",
       "      <td>0.85</td>\n",
       "    </tr>\n",
       "    <tr>\n",
       "      <th>Pharmacist</th>\n",
       "      <td>40473.0</td>\n",
       "      <td>79.0</td>\n",
       "      <td>0.31</td>\n",
       "      <td>0.08</td>\n",
       "      <td>0.80</td>\n",
       "    </tr>\n",
       "    <tr>\n",
       "      <th>Any therapist</th>\n",
       "      <td>39371.0</td>\n",
       "      <td>1181.0</td>\n",
       "      <td>0.50</td>\n",
       "      <td>0.40</td>\n",
       "      <td>0.70</td>\n",
       "    </tr>\n",
       "    <tr>\n",
       "      <th>Any health technologist or technician</th>\n",
       "      <td>39062.0</td>\n",
       "      <td>1490.0</td>\n",
       "      <td>1.00</td>\n",
       "      <td>0.72</td>\n",
       "      <td>1.15</td>\n",
       "    </tr>\n",
       "    <tr>\n",
       "      <th>Veterinarian</th>\n",
       "      <td>40519.0</td>\n",
       "      <td>33.0</td>\n",
       "      <td>0.31</td>\n",
       "      <td>0.00</td>\n",
       "      <td>1.09</td>\n",
       "    </tr>\n",
       "    <tr>\n",
       "      <th>Nursing assistant or psychiatric aide</th>\n",
       "      <td>39045.0</td>\n",
       "      <td>1507.0</td>\n",
       "      <td>1.02</td>\n",
       "      <td>0.80</td>\n",
       "      <td>1.26</td>\n",
       "    </tr>\n",
       "    <tr>\n",
       "      <th>Home health or personal care aide</th>\n",
       "      <td>39999.0</td>\n",
       "      <td>553.0</td>\n",
       "      <td>0.78</td>\n",
       "      <td>0.53</td>\n",
       "      <td>1.02</td>\n",
       "    </tr>\n",
       "    <tr>\n",
       "      <th>Occupational or physical therapy assistant or aide</th>\n",
       "      <td>40477.0</td>\n",
       "      <td>75.0</td>\n",
       "      <td>1.27</td>\n",
       "      <td>0.46</td>\n",
       "      <td>1.87</td>\n",
       "    </tr>\n",
       "    <tr>\n",
       "      <th>Massage therapist</th>\n",
       "      <td>40549.0</td>\n",
       "      <td>3.0</td>\n",
       "      <td>4.60</td>\n",
       "      <td>0.00</td>\n",
       "      <td>8.08</td>\n",
       "    </tr>\n",
       "    <tr>\n",
       "      <th>Dental assistant</th>\n",
       "      <td>40534.0</td>\n",
       "      <td>18.0</td>\n",
       "      <td>0.00</td>\n",
       "      <td>0.00</td>\n",
       "      <td>0.00</td>\n",
       "    </tr>\n",
       "    <tr>\n",
       "      <th>Medical assistant</th>\n",
       "      <td>40415.0</td>\n",
       "      <td>137.0</td>\n",
       "      <td>1.08</td>\n",
       "      <td>0.45</td>\n",
       "      <td>1.74</td>\n",
       "    </tr>\n",
       "    <tr>\n",
       "      <th>Medical transcriptionist</th>\n",
       "      <td>40526.0</td>\n",
       "      <td>26.0</td>\n",
       "      <td>0.59</td>\n",
       "      <td>0.00</td>\n",
       "      <td>1.54</td>\n",
       "    </tr>\n",
       "    <tr>\n",
       "      <th>Pharmacy aide</th>\n",
       "      <td>40536.0</td>\n",
       "      <td>16.0</td>\n",
       "      <td>0.00</td>\n",
       "      <td>0.00</td>\n",
       "      <td>0.00</td>\n",
       "    </tr>\n",
       "    <tr>\n",
       "      <th>Phlebotomist</th>\n",
       "      <td>40524.0</td>\n",
       "      <td>28.0</td>\n",
       "      <td>3.41</td>\n",
       "      <td>0.69</td>\n",
       "      <td>4.76</td>\n",
       "    </tr>\n",
       "    <tr>\n",
       "      <th>Veterinary assistant</th>\n",
       "      <td>40547.0</td>\n",
       "      <td>5.0</td>\n",
       "      <td>3.44</td>\n",
       "      <td>0.00</td>\n",
       "      <td>12.04</td>\n",
       "    </tr>\n",
       "    <tr>\n",
       "      <th>Any other healthcare support worker</th>\n",
       "      <td>38379.0</td>\n",
       "      <td>2173.0</td>\n",
       "      <td>0.52</td>\n",
       "      <td>0.40</td>\n",
       "      <td>0.60</td>\n",
       "    </tr>\n",
       "  </tbody>\n",
       "</table>\n",
       "</div>"
      ],
      "text/plain": [
       "                                                    n_nonHCW    n_HCW    RR  \\\n",
       "All HCWs                                             26805.0  13747.0  0.69   \n",
       "Physician or surgeon                                 40277.0    275.0  2.62   \n",
       "Registered nurse (including nurse practitioner)      37573.0   2979.0  0.62   \n",
       "Licensed practical or licensed vocational nurse      38560.0   1992.0  0.63   \n",
       "Physician assistant                                  40405.0    147.0  0.66   \n",
       "Dentist                                              40518.0     34.0  0.38   \n",
       "Any other treating practitioner                      40189.0    363.0  0.54   \n",
       "Pharmacist                                           40473.0     79.0  0.31   \n",
       "Any therapist                                        39371.0   1181.0  0.50   \n",
       "Any health technologist or technician                39062.0   1490.0  1.00   \n",
       "Veterinarian                                         40519.0     33.0  0.31   \n",
       "Nursing assistant or psychiatric aide                39045.0   1507.0  1.02   \n",
       "Home health or personal care aide                    39999.0    553.0  0.78   \n",
       "Occupational or physical therapy assistant or aide   40477.0     75.0  1.27   \n",
       "Massage therapist                                    40549.0      3.0  4.60   \n",
       "Dental assistant                                     40534.0     18.0  0.00   \n",
       "Medical assistant                                    40415.0    137.0  1.08   \n",
       "Medical transcriptionist                             40526.0     26.0  0.59   \n",
       "Pharmacy aide                                        40536.0     16.0  0.00   \n",
       "Phlebotomist                                         40524.0     28.0  3.41   \n",
       "Veterinary assistant                                 40547.0      5.0  3.44   \n",
       "Any other healthcare support worker                  38379.0   2173.0  0.52   \n",
       "\n",
       "                                                      lb     ub  \n",
       "All HCWs                                            0.63   0.77  \n",
       "Physician or surgeon                                1.78   3.47  \n",
       "Registered nurse (including nurse practitioner)     0.58   0.80  \n",
       "Licensed practical or licensed vocational nurse     0.53   0.78  \n",
       "Physician assistant                                 0.37   1.26  \n",
       "Dentist                                             0.00   0.83  \n",
       "Any other treating practitioner                     0.29   0.85  \n",
       "Pharmacist                                          0.08   0.80  \n",
       "Any therapist                                       0.40   0.70  \n",
       "Any health technologist or technician               0.72   1.15  \n",
       "Veterinarian                                        0.00   1.09  \n",
       "Nursing assistant or psychiatric aide               0.80   1.26  \n",
       "Home health or personal care aide                   0.53   1.02  \n",
       "Occupational or physical therapy assistant or aide  0.46   1.87  \n",
       "Massage therapist                                   0.00   8.08  \n",
       "Dental assistant                                    0.00   0.00  \n",
       "Medical assistant                                   0.45   1.74  \n",
       "Medical transcriptionist                            0.00   1.54  \n",
       "Pharmacy aide                                       0.00   0.00  \n",
       "Phlebotomist                                        0.69   4.76  \n",
       "Veterinary assistant                                0.00  12.04  \n",
       "Any other healthcare support worker                 0.40   0.60  "
      ]
     },
     "execution_count": 41,
     "metadata": {},
     "output_type": "execute_result"
    }
   ],
   "source": [
    "pd.set_option('display.max_rows', 80)\n",
    "np.round(hcw_types_results,2)"
   ]
  },
  {
   "cell_type": "markdown",
   "metadata": {},
   "source": [
    "# Sensitivity analysis of those with required testing _and_ symptoms\n",
    "\n",
    "Herbie writes:\n",
    "> The one question I have at this point is how to account for work required testing.  I worry that there may be systematic differences in testing policies in the healthcare and non-healthcare setting.  Specifically, are individuals being tested because they are symptomatic, or is this part of routine testing?\n",
    "\n",
    "To investigate this, we can dig deeper into the \"why you were tested\" question that we used to subset on the individuals who were tested because of employeer/educational requirements (value \"4\").\n",
    "\n",
    "This question has a \"select all that apply\" answer, and includes \"I felt sick\" (value \"1\") as a response as well."
   ]
  },
  {
   "cell_type": "code",
   "execution_count": 42,
   "metadata": {},
   "outputs": [
    {
     "data": {
      "text/plain": [
       "4240"
      ]
     },
     "execution_count": 42,
     "metadata": {},
     "output_type": "execute_result"
    }
   ],
   "source": [
    "test_reason = data['df'].test_reason.fillna('')\n",
    "required_testing_and_felt_sick_rows = (test_reason.str.contains(\"4\")\n",
    "                                       & test_reason.str.contains(\"1\"))\n",
    "sum(required_testing_and_felt_sick_rows)"
   ]
  },
  {
   "cell_type": "code",
   "execution_count": 43,
   "metadata": {},
   "outputs": [
    {
     "data": {
      "text/plain": [
       "36312"
      ]
     },
     "execution_count": 43,
     "metadata": {},
     "output_type": "execute_result"
    }
   ],
   "source": [
    "required_testing_and_not_felt_sick_rows = (test_reason.str.contains(\"4\")\n",
    "                                           & ~test_reason.str.contains(\"1\"))\n",
    "sum(required_testing_and_not_felt_sick_rows)"
   ]
  },
  {
   "cell_type": "code",
   "execution_count": 44,
   "metadata": {},
   "outputs": [],
   "source": [
    "results = {}\n",
    "\n",
    "df = methods.subset_data(data, required_testing_and_not_felt_sick_rows, exposure='hcw', outcome='test_positive')\n",
    "results['Test required, did not feel sick'] = methods.my_calc_and_summarize(df)"
   ]
  },
  {
   "cell_type": "code",
   "execution_count": 45,
   "metadata": {},
   "outputs": [],
   "source": [
    "df = methods.subset_data(data, required_testing_and_felt_sick_rows, exposure='hcw', outcome='test_positive')\n",
    "results['Test required, felt sick'] = methods.my_calc_and_summarize(df)"
   ]
  },
  {
   "cell_type": "code",
   "execution_count": 46,
   "metadata": {},
   "outputs": [
    {
     "data": {
      "text/html": [
       "<div>\n",
       "<style scoped>\n",
       "    .dataframe tbody tr th:only-of-type {\n",
       "        vertical-align: middle;\n",
       "    }\n",
       "\n",
       "    .dataframe tbody tr th {\n",
       "        vertical-align: top;\n",
       "    }\n",
       "\n",
       "    .dataframe thead th {\n",
       "        text-align: right;\n",
       "    }\n",
       "</style>\n",
       "<table border=\"1\" class=\"dataframe\">\n",
       "  <thead>\n",
       "    <tr style=\"text-align: right;\">\n",
       "      <th></th>\n",
       "      <th>n_nonHCW</th>\n",
       "      <th>n_HCW</th>\n",
       "      <th>RR</th>\n",
       "      <th>lb</th>\n",
       "      <th>ub</th>\n",
       "    </tr>\n",
       "  </thead>\n",
       "  <tbody>\n",
       "    <tr>\n",
       "      <th>Test required, did not feel sick</th>\n",
       "      <td>23523.0</td>\n",
       "      <td>12789.0</td>\n",
       "      <td>1.05</td>\n",
       "      <td>0.97</td>\n",
       "      <td>1.24</td>\n",
       "    </tr>\n",
       "    <tr>\n",
       "      <th>Test required, felt sick</th>\n",
       "      <td>3282.0</td>\n",
       "      <td>958.0</td>\n",
       "      <td>0.75</td>\n",
       "      <td>0.65</td>\n",
       "      <td>0.88</td>\n",
       "    </tr>\n",
       "  </tbody>\n",
       "</table>\n",
       "</div>"
      ],
      "text/plain": [
       "                                  n_nonHCW    n_HCW    RR    lb    ub\n",
       "Test required, did not feel sick   23523.0  12789.0  1.05  0.97  1.24\n",
       "Test required, felt sick            3282.0    958.0  0.75  0.65  0.88"
      ]
     },
     "execution_count": 46,
     "metadata": {},
     "output_type": "execute_result"
    }
   ],
   "source": [
    "required_testing_results = pd.DataFrame(results).T\n",
    "required_testing_results.columns = 'n_nonHCW', 'n_HCW', 'RR', 'lb', 'ub'\n",
    "np.round(required_testing_results, 2)"
   ]
  },
  {
   "cell_type": "markdown",
   "metadata": {},
   "source": [
    "# Sensitivity analysis of those who work outside the home\n",
    "\n",
    "Dan writes:\n",
    "> HCW in this study encompasses a broad group that likely has varying hospital exposures. My sister-in-law is an OT who works from home currently. Do these study HCW represent the HCW that a patient encounters when seeking medical care?\n",
    "\n",
    "The survey does contain some information about whether the workers are working from home, but it is pretty coarse, “Was any of your work for pay in the last four weeks outside your home?” I’m going to check if it changes any results though, because I bet it doesn’t (because who would be required to test if they were working from home?)."
   ]
  },
  {
   "cell_type": "code",
   "execution_count": 47,
   "metadata": {},
   "outputs": [
    {
     "data": {
      "text/plain": [
       "26690"
      ]
     },
     "execution_count": 47,
     "metadata": {},
     "output_type": "execute_result"
    }
   ],
   "source": [
    "required_testing_and_outside_work = data['df'].test_required & (data['df'].work_outside_home == 1)\n",
    "sum(required_testing_and_outside_work)"
   ]
  },
  {
   "cell_type": "code",
   "execution_count": 48,
   "metadata": {},
   "outputs": [
    {
     "data": {
      "text/plain": [
       "13862"
      ]
     },
     "execution_count": 48,
     "metadata": {},
     "output_type": "execute_result"
    }
   ],
   "source": [
    "required_testing_and_not_outside_work = data['df'].test_required & (data['df'].work_outside_home != 1)\n",
    "sum(required_testing_and_not_outside_work)"
   ]
  },
  {
   "cell_type": "code",
   "execution_count": 49,
   "metadata": {},
   "outputs": [],
   "source": [
    "results = {}\n",
    "\n",
    "df = methods.subset_data(data, required_testing_and_outside_work, exposure='hcw', outcome='test_positive')\n",
    "results['Test required, worked outside of home'] = methods.my_calc_and_summarize(df)"
   ]
  },
  {
   "cell_type": "code",
   "execution_count": 50,
   "metadata": {},
   "outputs": [],
   "source": [
    "df = methods.subset_data(data, required_testing_and_not_outside_work, exposure='hcw', outcome='test_positive')\n",
    "results['Test required, did not work outside of home'] = methods.my_calc_and_summarize(df)"
   ]
  },
  {
   "cell_type": "code",
   "execution_count": 51,
   "metadata": {},
   "outputs": [
    {
     "data": {
      "text/html": [
       "<div>\n",
       "<style scoped>\n",
       "    .dataframe tbody tr th:only-of-type {\n",
       "        vertical-align: middle;\n",
       "    }\n",
       "\n",
       "    .dataframe tbody tr th {\n",
       "        vertical-align: top;\n",
       "    }\n",
       "\n",
       "    .dataframe thead th {\n",
       "        text-align: right;\n",
       "    }\n",
       "</style>\n",
       "<table border=\"1\" class=\"dataframe\">\n",
       "  <thead>\n",
       "    <tr style=\"text-align: right;\">\n",
       "      <th></th>\n",
       "      <th>n_nonHCW</th>\n",
       "      <th>n_HCW</th>\n",
       "      <th>RR</th>\n",
       "      <th>lb</th>\n",
       "      <th>ub</th>\n",
       "    </tr>\n",
       "  </thead>\n",
       "  <tbody>\n",
       "    <tr>\n",
       "      <th>Test required, worked outside of home</th>\n",
       "      <td>14705.0</td>\n",
       "      <td>11985.0</td>\n",
       "      <td>0.76</td>\n",
       "      <td>0.69</td>\n",
       "      <td>0.86</td>\n",
       "    </tr>\n",
       "    <tr>\n",
       "      <th>Test required, did not work outside of home</th>\n",
       "      <td>12100.0</td>\n",
       "      <td>1762.0</td>\n",
       "      <td>0.76</td>\n",
       "      <td>0.52</td>\n",
       "      <td>0.87</td>\n",
       "    </tr>\n",
       "  </tbody>\n",
       "</table>\n",
       "</div>"
      ],
      "text/plain": [
       "                                             n_nonHCW    n_HCW    RR    lb  \\\n",
       "Test required, worked outside of home         14705.0  11985.0  0.76  0.69   \n",
       "Test required, did not work outside of home   12100.0   1762.0  0.76  0.52   \n",
       "\n",
       "                                               ub  \n",
       "Test required, worked outside of home        0.86  \n",
       "Test required, did not work outside of home  0.87  "
      ]
     },
     "execution_count": 51,
     "metadata": {},
     "output_type": "execute_result"
    }
   ],
   "source": [
    "outside_work_results = pd.DataFrame(results).T\n",
    "outside_work_results.columns = 'n_nonHCW', 'n_HCW', 'RR', 'lb', 'ub'\n",
    "np.round(outside_work_results, 2)"
   ]
  },
  {
   "cell_type": "markdown",
   "metadata": {},
   "source": [
    "# For a different project, what is the RR of people who attend mass gatherings, compared to those who did not?"
   ]
  },
  {
   "cell_type": "code",
   "execution_count": 52,
   "metadata": {},
   "outputs": [
    {
     "data": {
      "text/plain": [
       "[39421, 1131, 9.051658117321928, 8.221011045840653, 9.593836664868338]"
      ]
     },
     "execution_count": 52,
     "metadata": {},
     "output_type": "execute_result"
    }
   ],
   "source": [
    "data['df']['mass_gathering'] = data['df'].test_reason.fillna('').str.contains('5')  # outdoor gathering\n",
    "df = methods.subset_data(data, data['df'].test_required, exposure='mass_gathering', outcome='test_positive')\n",
    "methods.my_calc_and_summarize(df)"
   ]
  },
  {
   "cell_type": "code",
   "execution_count": 53,
   "metadata": {},
   "outputs": [
    {
     "data": {
      "text/plain": [
       "[39187, 1365, 8.6731538518248, 8.017891312803105, 9.432661661710636]"
      ]
     },
     "execution_count": 53,
     "metadata": {},
     "output_type": "execute_result"
    }
   ],
   "source": [
    "data['df']['mass_gathering'] = data['df'].test_reason.fillna('').str.contains('6')  # indoor gathering\n",
    "df = methods.subset_data(data, data['df'].test_required, exposure='mass_gathering', outcome='test_positive')\n",
    "methods.my_calc_and_summarize(df)"
   ]
  },
  {
   "cell_type": "markdown",
   "metadata": {},
   "source": [
    "# Results by week"
   ]
  },
  {
   "cell_type": "code",
   "execution_count": 54,
   "metadata": {},
   "outputs": [
    {
     "name": "stdout",
     "output_type": "stream",
     "text": [
      "Week ending October 18, 2020: 5836 rows\n",
      "Week ending October 11, 2020: 7449 rows\n",
      "Week ending October 4, 2020: 6944 rows\n",
      "Week ending September 27, 2020: 6840 rows\n",
      "Week ending September 20, 2020: 7117 rows\n",
      "Week ending September 13, 2020: 6366 rows\n"
     ]
    }
   ],
   "source": [
    "results = {}\n",
    "\n",
    "for week in range(6):\n",
    "    week_end = data['most_recent_data_date'] - pd.Timedelta(days=7*week) \n",
    "    rows = ((data['df'].date <= week_end)\n",
    "            & (data['df'].date > week_end - pd.Timedelta(days=7))\n",
    "            & (data['df'].test_required == 1))\n",
    "    print(f'Week ending {week_end.strftime(methods.date_fmt)}: {sum(rows)} rows')\n",
    "\n",
    "    df = methods.subset_data(data, rows, exposure='hcw', outcome='test_positive')\n",
    "    results[f'Week ending {week_end.strftime(methods.date_fmt)}'] = methods.my_calc_and_summarize(df)"
   ]
  },
  {
   "cell_type": "code",
   "execution_count": 55,
   "metadata": {},
   "outputs": [
    {
     "data": {
      "text/html": [
       "<div>\n",
       "<style scoped>\n",
       "    .dataframe tbody tr th:only-of-type {\n",
       "        vertical-align: middle;\n",
       "    }\n",
       "\n",
       "    .dataframe tbody tr th {\n",
       "        vertical-align: top;\n",
       "    }\n",
       "\n",
       "    .dataframe thead th {\n",
       "        text-align: right;\n",
       "    }\n",
       "</style>\n",
       "<table border=\"1\" class=\"dataframe\">\n",
       "  <thead>\n",
       "    <tr style=\"text-align: right;\">\n",
       "      <th></th>\n",
       "      <th>n_nonHCW</th>\n",
       "      <th>n_HCW</th>\n",
       "      <th>RR</th>\n",
       "      <th>lb</th>\n",
       "      <th>ub</th>\n",
       "    </tr>\n",
       "  </thead>\n",
       "  <tbody>\n",
       "    <tr>\n",
       "      <th>Week ending October 18, 2020</th>\n",
       "      <td>3910.0</td>\n",
       "      <td>1926.0</td>\n",
       "      <td>0.82</td>\n",
       "      <td>0.60</td>\n",
       "      <td>1.06</td>\n",
       "    </tr>\n",
       "    <tr>\n",
       "      <th>Week ending October 11, 2020</th>\n",
       "      <td>4914.0</td>\n",
       "      <td>2535.0</td>\n",
       "      <td>0.80</td>\n",
       "      <td>0.60</td>\n",
       "      <td>1.02</td>\n",
       "    </tr>\n",
       "    <tr>\n",
       "      <th>Week ending October 4, 2020</th>\n",
       "      <td>4567.0</td>\n",
       "      <td>2377.0</td>\n",
       "      <td>0.50</td>\n",
       "      <td>0.41</td>\n",
       "      <td>0.75</td>\n",
       "    </tr>\n",
       "    <tr>\n",
       "      <th>Week ending September 27, 2020</th>\n",
       "      <td>4473.0</td>\n",
       "      <td>2367.0</td>\n",
       "      <td>0.64</td>\n",
       "      <td>0.45</td>\n",
       "      <td>0.79</td>\n",
       "    </tr>\n",
       "    <tr>\n",
       "      <th>Week ending September 20, 2020</th>\n",
       "      <td>4682.0</td>\n",
       "      <td>2435.0</td>\n",
       "      <td>0.78</td>\n",
       "      <td>0.59</td>\n",
       "      <td>1.01</td>\n",
       "    </tr>\n",
       "    <tr>\n",
       "      <th>Week ending September 13, 2020</th>\n",
       "      <td>4259.0</td>\n",
       "      <td>2107.0</td>\n",
       "      <td>0.62</td>\n",
       "      <td>0.43</td>\n",
       "      <td>0.78</td>\n",
       "    </tr>\n",
       "  </tbody>\n",
       "</table>\n",
       "</div>"
      ],
      "text/plain": [
       "                                n_nonHCW   n_HCW    RR    lb    ub\n",
       "Week ending October 18, 2020      3910.0  1926.0  0.82  0.60  1.06\n",
       "Week ending October 11, 2020      4914.0  2535.0  0.80  0.60  1.02\n",
       "Week ending October 4, 2020       4567.0  2377.0  0.50  0.41  0.75\n",
       "Week ending September 27, 2020    4473.0  2367.0  0.64  0.45  0.79\n",
       "Week ending September 20, 2020    4682.0  2435.0  0.78  0.59  1.01\n",
       "Week ending September 13, 2020    4259.0  2107.0  0.62  0.43  0.78"
      ]
     },
     "execution_count": 55,
     "metadata": {},
     "output_type": "execute_result"
    }
   ],
   "source": [
    "by_week_results = pd.DataFrame(results).T\n",
    "by_week_results.columns = 'n_nonHCW', 'n_HCW', 'RR', 'lb', 'ub'\n",
    "np.round(by_week_results, 2)"
   ]
  },
  {
   "cell_type": "code",
   "execution_count": 56,
   "metadata": {},
   "outputs": [
    {
     "data": {
      "image/png": "[encoded data removed]",
      "text/plain": [
       "<Figure size 432x288 with 1 Axes>"
      ]
     },
     "metadata": {
      "needs_background": "light"
     },
     "output_type": "display_data"
    }
   ],
   "source": [
    "plt.errorbar(range(6,0,-1), by_week_results.RR, yerr=[by_week_results.RR-by_week_results.lb,\n",
    "                                                      by_week_results.ub-by_week_results.RR,\n",
    "                                                     ])\n",
    "plt.axhline(1.0, color='k', linestyle='dashed')\n",
    "plt.xlabel('Week')\n",
    "plt.ylabel('RR')\n",
    "plt.grid();"
   ]
  },
  {
   "cell_type": "markdown",
   "metadata": {},
   "source": [
    "# For another question work from home vs not among all workers"
   ]
  },
  {
   "cell_type": "code",
   "execution_count": 57,
   "metadata": {},
   "outputs": [
    {
     "data": {
      "text/plain": [
       "[13862, 26690, 0.7268458093211172, 0.6701185336299073, 0.7823602851011704]"
      ]
     },
     "execution_count": 57,
     "metadata": {},
     "output_type": "execute_result"
    }
   ],
   "source": [
    "df = methods.subset_data(data, data['df'].test_required, exposure='work_outside_home', outcome='test_positive')\n",
    "methods.my_calc_and_summarize(df)"
   ]
  },
  {
   "cell_type": "code",
   "execution_count": 58,
   "metadata": {},
   "outputs": [
    {
     "data": {
      "text/plain": [
       "[13862, 26690, 1.0330929001859022, 1.0285910470981687, 1.0441984239622961]"
      ]
     },
     "execution_count": 58,
     "metadata": {},
     "output_type": "execute_result"
    }
   ],
   "source": [
    "df = methods.subset_data(data, data['df'].test_required, exposure='work_outside_home', outcome='test_negative')\n",
    "methods.my_calc_and_summarize(df)"
   ]
  },
  {
   "cell_type": "code",
   "execution_count": null,
   "metadata": {},
   "outputs": [],
   "source": []
  }
 ],
 "metadata": {
  "kernelspec": {
   "display_name": "vivarium_conic_sqlns",
   "language": "python",
   "name": "vivarium_conic_sqlns"
  },
  "language_info": {
   "codemirror_mode": {
    "name": "ipython",
    "version": 3
   },
   "file_extension": ".py",
   "mimetype": "text/x-python",
   "name": "python",
   "nbconvert_exporter": "python",
   "pygments_lexer": "ipython3",
   "version": "3.6.8"
  }
 },
 "nbformat": 4,
 "nbformat_minor": 2
}
